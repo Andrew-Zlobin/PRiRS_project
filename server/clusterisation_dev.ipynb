{
 "cells": [
  {
   "cell_type": "markdown",
   "metadata": {},
   "source": [
    "# Смотрим на рекоммендательную систему"
   ]
  },
  {
   "cell_type": "markdown",
   "metadata": {},
   "source": [
    "### Импортируем зависимости"
   ]
  },
  {
   "cell_type": "code",
   "execution_count": 1,
   "metadata": {},
   "outputs": [],
   "source": [
    "from recommendationSystem.pipeline import *\n",
    "from dbController.dbDriver import dbController"
   ]
  },
  {
   "cell_type": "markdown",
   "metadata": {},
   "source": [
    "Подключаемся к бд"
   ]
  },
  {
   "cell_type": "code",
   "execution_count": 2,
   "metadata": {},
   "outputs": [
    {
     "name": "stderr",
     "output_type": "stream",
     "text": [
      "/home/dr_drew/Projects/PRiRS/playground/server/dbController/dbInstancies.py:23: UserWarning: Name was unset\n",
      "  warnings.warn(\"Name was unset\")\n",
      "/home/dr_drew/Projects/PRiRS/playground/server/dbController/dbInstancies.py:26: UserWarning: Name was unset\n",
      "  warnings.warn(\"Name was unset\")\n",
      "/home/dr_drew/Projects/PRiRS/playground/server/dbController/dbInstancies.py:29: UserWarning: Name was unset\n",
      "  warnings.warn(\"Name was unset\")\n"
     ]
    }
   ],
   "source": [
    "database = dbController(path_to_default_tasks=\"tasks_sample.csv\")"
   ]
  },
  {
   "cell_type": "markdown",
   "metadata": {},
   "source": [
    "Смотрим что у нас есть"
   ]
  },
  {
   "cell_type": "code",
   "execution_count": 3,
   "metadata": {},
   "outputs": [
    {
     "name": "stdout",
     "output_type": "stream",
     "text": [
      "{'id': 1, 'name': 'Andrew', 'email': 'test@test.com', 'password': 'test', 'scores': {'user_score_grammar': 70, 'user_score_listenning': 60, 'user_score_reading_insertion': 50, 'user_score_reading_skipping': 40, 'user_score_reading_phoneme': 40, 'user_score_reading_accent': 40, 'user_group_id': 0}}\n",
      "{'id': 2, 'name': 'Name_8cdcf3d5-0c17-11f0-895f-00155d21ca91', 'email': 'email_8cdcf3d5-0c17-11f0-895f-00155d21ca91@mail.com', 'password': 'pswd', 'scores': {'user_score_grammar': 76, 'user_score_listenning': 89, 'user_score_reading_insertion': 75, 'user_score_reading_skipping': 87, 'user_score_reading_phoneme': 99, 'user_score_reading_accent': 82, 'user_group_id': 1}}\n",
      "{'id': 3, 'name': 'Name_8cdf4205-0c17-11f0-be59-00155d21ca91', 'email': 'email_8cdf4205-0c17-11f0-be59-00155d21ca91@mail.com', 'password': 'pswd', 'scores': {'user_score_grammar': 98, 'user_score_listenning': 98, 'user_score_reading_insertion': 76, 'user_score_reading_skipping': 77, 'user_score_reading_phoneme': 95, 'user_score_reading_accent': 93, 'user_group_id': 1}}\n",
      "{'id': 4, 'name': 'Name_8cdf4e57-0c17-11f0-aadc-00155d21ca91', 'email': 'email_8cdf4e57-0c17-11f0-aadc-00155d21ca91@mail.com', 'password': 'pswd', 'scores': {'user_score_grammar': 69, 'user_score_listenning': 58, 'user_score_reading_insertion': 56, 'user_score_reading_skipping': 70, 'user_score_reading_phoneme': 52, 'user_score_reading_accent': 61, 'user_group_id': 1}}\n",
      "{'id': 5, 'name': 'Name_8cdf5960-0c17-11f0-a3b4-00155d21ca91', 'email': 'email_8cdf5960-0c17-11f0-a3b4-00155d21ca91@mail.com', 'password': 'pswd', 'scores': {'user_score_grammar': 29, 'user_score_listenning': 41, 'user_score_reading_insertion': 33, 'user_score_reading_skipping': 29, 'user_score_reading_phoneme': 37, 'user_score_reading_accent': 37, 'user_group_id': 1}}\n"
     ]
    }
   ],
   "source": [
    "for user in database.get_all_users()[:5]:\n",
    "    print(user)"
   ]
  },
  {
   "cell_type": "markdown",
   "metadata": {},
   "source": [
    "Смотрим на первые 5 заданий из каждой категории"
   ]
  },
  {
   "cell_type": "code",
   "execution_count": 4,
   "metadata": {},
   "outputs": [
    {
     "name": "stdout",
     "output_type": "stream",
     "text": [
      "\n",
      "(1, 'Task 1', 'The cat sat on the mat.', 'insertion ', 1, datetime.datetime(2025, 3, 28, 23, 59, 33, 550210))\n",
      "(2, 'Task 2', 'She went to the store.', 'insertion ', 1, datetime.datetime(2025, 3, 28, 23, 59, 33, 550210))\n",
      "(3, 'Task 3', 'I love eating apples.', 'insertion ', 2, datetime.datetime(2025, 3, 28, 23, 59, 33, 550210))\n",
      "(4, 'Task 4', 'He sings beautifully.', 'insertion ', 2, datetime.datetime(2025, 3, 28, 23, 59, 33, 550210))\n",
      "(5, 'Task 5', 'The dog barked loudly.', 'insertion ', 2, datetime.datetime(2025, 3, 28, 23, 59, 33, 550210))\n",
      "(26, 'Task 26', 'The brown dog runs fast.', 'skipping ', 2, datetime.datetime(2025, 3, 28, 23, 59, 33, 550210))\n",
      "(27, 'Task 27', 'He likes to paint.', 'skipping ', 2, datetime.datetime(2025, 3, 28, 23, 59, 33, 550210))\n",
      "(28, 'Task 28', 'They travel to Europe.', 'skipping ', 2, datetime.datetime(2025, 3, 28, 23, 59, 33, 550210))\n",
      "(29, 'Task 29', 'She eats a sandwich.', 'skipping ', 3, datetime.datetime(2025, 3, 28, 23, 59, 33, 550210))\n",
      "(30, 'Task 30', 'He listens to music.', 'skipping ', 3, datetime.datetime(2025, 3, 28, 23, 59, 33, 550210))\n",
      "(51, 'Task 51', 'The ball is round.', 'phoneme ', 1, datetime.datetime(2025, 3, 28, 23, 59, 33, 550210))\n",
      "(52, 'Task 52', 'He eats toast for breakfast.', 'phoneme ', 2, datetime.datetime(2025, 3, 28, 23, 59, 33, 550210))\n",
      "(53, 'Task 53', 'The stars twinkle at night.', 'phoneme ', 3, datetime.datetime(2025, 3, 28, 23, 59, 33, 550210))\n",
      "(54, 'Task 54', 'She tied her shoelaces.', 'phoneme ', 4, datetime.datetime(2025, 3, 28, 23, 59, 33, 550210))\n",
      "(55, 'Task 55', 'The monkey climbed the tree.', 'phoneme ', 3, datetime.datetime(2025, 3, 28, 23, 59, 33, 550210))\n",
      "(76, 'Task 76', 'The theater was crowded.', 'accent ', 2, datetime.datetime(2025, 3, 28, 23, 59, 33, 550210))\n",
      "(77, 'Task 77', 'He ordered a bottle of water.', 'accent ', 3, datetime.datetime(2025, 3, 28, 23, 59, 33, 550210))\n",
      "(78, 'Task 78', 'She bought a new mirror.', 'accent ', 4, datetime.datetime(2025, 3, 28, 23, 59, 33, 550210))\n",
      "(79, 'Task 79', 'The tomato was ripe.', 'accent ', 3, datetime.datetime(2025, 3, 28, 23, 59, 33, 550210))\n",
      "(80, 'Task 80', 'I parked the car in the garage.', 'accent ', 4, datetime.datetime(2025, 3, 28, 23, 59, 33, 550210))\n"
     ]
    }
   ],
   "source": [
    "#tasks types: insertion, skipping, phoneme, accent\n",
    "tasks_types = [\"insertion \", \"skipping \", \"phoneme \", \"accent \"]\n",
    "filtered_tasks = lambda task_type : [task for task in database.get_all_tasks() if task[3] == task_type]\n",
    "print()\n",
    "for task_type in tasks_types:\n",
    "    for task in filtered_tasks(task_type)[:5]:\n",
    "        print(task)\n"
   ]
  },
  {
   "cell_type": "markdown",
   "metadata": {},
   "source": [
    "Текущий датасет - очень упрощённая версия L2 Arctic Data"
   ]
  },
  {
   "cell_type": "markdown",
   "metadata": {},
   "source": [
    "ну и смотрим на подопытного пользователя, точнее на его задания"
   ]
  },
  {
   "cell_type": "code",
   "execution_count": 5,
   "metadata": {},
   "outputs": [
    {
     "data": {
      "text/plain": [
       "[{'key': 48,\n",
       "  'name': 'Task 48',\n",
       "  'text': 'The river flows gently.',\n",
       "  'difficulty': 2},\n",
       " {'key': 46,\n",
       "  'name': 'Task 46',\n",
       "  'text': 'She whispered a secret.',\n",
       "  'difficulty': 4},\n",
       " {'key': 27, 'name': 'Task 27', 'text': 'He likes to paint.', 'difficulty': 2},\n",
       " {'key': 26,\n",
       "  'name': 'Task 26',\n",
       "  'text': 'The brown dog runs fast.',\n",
       "  'difficulty': 2},\n",
       " {'key': 70, 'name': 'Task 70', 'text': 'She waved goodbye.', 'difficulty': 2},\n",
       " {'key': 33,\n",
       "  'name': 'Task 33',\n",
       "  'text': 'The airplane takes off.',\n",
       "  'difficulty': 3},\n",
       " {'key': 68,\n",
       "  'name': 'Task 68',\n",
       "  'text': 'He drew a big circle.',\n",
       "  'difficulty': 3},\n",
       " {'key': 79,\n",
       "  'name': 'Task 79',\n",
       "  'text': 'The tomato was ripe.',\n",
       "  'difficulty': 3},\n",
       " {'key': 87,\n",
       "  'name': 'Task 87',\n",
       "  'text': 'The waiter brought the check.',\n",
       "  'difficulty': 2},\n",
       " {'key': 95,\n",
       "  'name': 'Task 95',\n",
       "  'text': 'The puppy wagged its tail.',\n",
       "  'difficulty': 1}]"
      ]
     },
     "execution_count": 5,
     "metadata": {},
     "output_type": "execute_result"
    }
   ],
   "source": [
    "database.get_task_for_user(\"test@test.com\")"
   ]
  },
  {
   "cell_type": "markdown",
   "metadata": {},
   "source": [
    "Объект непосредственно рекоммендательной системы"
   ]
  },
  {
   "cell_type": "code",
   "execution_count": 6,
   "metadata": {},
   "outputs": [],
   "source": [
    "model = recommendationModel(database)"
   ]
  },
  {
   "cell_type": "code",
   "execution_count": 7,
   "metadata": {},
   "outputs": [
    {
     "name": "stdout",
     "output_type": "stream",
     "text": [
      "\n",
      "[(1, 'insertion ', 1), (2, 'insertion ', 1), (15, 'insertion ', 1), (51, 'phoneme ', 1), (47, 'skipping ', 1), (3, 'insertion ', 2), (4, 'insertion ', 2), (5, 'insertion ', 2), (13, 'insertion ', 2), (14, 'insertion ', 2)]\n",
      "\n",
      "[(1, 'insertion ', 1), (2, 'insertion ', 1), (15, 'insertion ', 1), (47, 'skipping ', 1), (83, 'accent ', 1), (95, 'accent ', 1), (51, 'phoneme ', 1), (3, 'insertion ', 2), (4, 'insertion ', 2), (5, 'insertion ', 2)]\n",
      "\n",
      "[(1, 'insertion ', 1), (2, 'insertion ', 1), (15, 'insertion ', 1), (47, 'skipping ', 1), (51, 'phoneme ', 1), (83, 'accent ', 1), (95, 'accent ', 1), (3, 'insertion ', 2), (4, 'insertion ', 2), (5, 'insertion ', 2)]\n",
      "\n",
      "[(1, 'insertion ', 1), (2, 'insertion ', 1), (15, 'insertion ', 1), (51, 'phoneme ', 1), (47, 'skipping ', 1), (83, 'accent ', 1), (95, 'accent ', 1), (3, 'insertion ', 2), (4, 'insertion ', 2), (5, 'insertion ', 2)]\n",
      "\n",
      "[(47, 'skipping ', 1), (51, 'phoneme ', 1), (83, 'accent ', 1), (95, 'accent ', 1), (1, 'insertion ', 1), (2, 'insertion ', 1), (15, 'insertion ', 1), (26, 'skipping ', 2), (27, 'skipping ', 2), (28, 'skipping ', 2)]\n"
     ]
    },
    {
     "name": "stderr",
     "output_type": "stream",
     "text": [
      "/home/dr_drew/Projects/PRiRS/playground/server/server_env/lib/python3.12/site-packages/scipy/spatial/distance.py:685: RuntimeWarning: invalid value encountered in scalar divide\n",
      "  dist = 1.0 - uv / math.sqrt(uu * vv)\n"
     ]
    }
   ],
   "source": [
    "model.update_cached_tasks_list()\n",
    "all_users = model.database.get_all_users()\n",
    "clusters = model.cluster_users([list(user[\"scores\"].values()) for user in all_users], n_clusters=5)\n",
    "for user, cluster in zip(all_users, clusters):\n",
    "    model.database.update_metrics_for_user_by_email(email=user[\"email\"], user_group_id=int(cluster))\n",
    "# for user in users:\n",
    "mean_scores = []\n",
    "tasks = {}\n",
    "sorted_tasks = {}\n",
    "for cluster in set(clusters):\n",
    "    mean_score = {\n",
    "        \"user_score_reading_insertion\" : 0,\n",
    "        \"user_score_reading_skipping\" : 0,\n",
    "        \"user_score_reading_phoneme\" : 0,\n",
    "        \"user_score_reading_accent\" : 0,\n",
    "    }\n",
    "    counter = 0\n",
    "    for user, user_cluster in zip(all_users, clusters):\n",
    "        if user_cluster == cluster:\n",
    "            counter += 1\n",
    "            for score in mean_score.keys():\n",
    "                # print(user[\"scores\"])\n",
    "                mean_score[score] += user[\"scores\"][score]\n",
    "    for score in mean_score.keys():\n",
    "        # print(user[\"scores\"])\n",
    "        mean_score[score] /= counter\n",
    "        \n",
    "    mean_scores.append(mean_score)\n",
    "    tasks[cluster] = model.create_task_query(mean_score)\n",
    "    sorted_tasks[cluster]  = model.sort_task_query(mean_score, tasks[cluster])\n"
   ]
  },
  {
   "cell_type": "code",
   "execution_count": 8,
   "metadata": {},
   "outputs": [
    {
     "name": "stdout",
     "output_type": "stream",
     "text": [
      "[3 1 1 3 2 4 2 3 0 4 2 4 3 2 1 3 2 4 2 3 0 4 2 4 3 2 1 3 2 4 2 3 0 4 2 4 3\n",
      " 2 1 3 2 4 2 3 0 4 2 4 3 2 1 3 2 4 2 3 0 4 2 4 3 2 1 3 2 4 2 3 0 4 2 4 3 2\n",
      " 1 3 2 4 2 3 0 4 2 4 3 2 1 3 2 4 2 3 0 4 2 4 3 2 1 3 2]\n"
     ]
    }
   ],
   "source": [
    "print(clusters)"
   ]
  },
  {
   "cell_type": "code",
   "execution_count": 9,
   "metadata": {},
   "outputs": [
    {
     "name": "stdout",
     "output_type": "stream",
     "text": [
      "{'user_score_reading_insertion': 6.0, 'user_score_reading_skipping': 11.0, 'user_score_reading_phoneme': 6.0, 'user_score_reading_accent': 21.0}\n",
      "{'user_score_reading_insertion': 75.9, 'user_score_reading_skipping': 78.0, 'user_score_reading_phoneme': 95.4, 'user_score_reading_accent': 91.9}\n",
      "{'user_score_reading_insertion': 30.818181818181817, 'user_score_reading_skipping': 34.57575757575758, 'user_score_reading_phoneme': 39.18181818181818, 'user_score_reading_accent': 39.666666666666664}\n",
      "{'user_score_reading_insertion': 60.69230769230769, 'user_score_reading_skipping': 61.46153846153846, 'user_score_reading_phoneme': 60.76923076923077, 'user_score_reading_accent': 63.26923076923077}\n",
      "{'user_score_reading_insertion': 95.33333333333333, 'user_score_reading_skipping': 85.0, 'user_score_reading_phoneme': 87.0, 'user_score_reading_accent': 90.66666666666667}\n"
     ]
    }
   ],
   "source": [
    "for mean_score in mean_scores:\n",
    "    print(mean_score)"
   ]
  },
  {
   "cell_type": "code",
   "execution_count": 10,
   "metadata": {},
   "outputs": [
    {
     "name": "stdout",
     "output_type": "stream",
     "text": [
      "[(1, 'insertion ', 1), (2, 'insertion ', 1), (15, 'insertion ', 1), (51, 'phoneme ', 1), (47, 'skipping ', 1), (3, 'insertion ', 2), (4, 'insertion ', 2), (5, 'insertion ', 2), (13, 'insertion ', 2), (14, 'insertion ', 2)]\n"
     ]
    }
   ],
   "source": [
    "print(sorted_tasks[0])"
   ]
  },
  {
   "cell_type": "code",
   "execution_count": 11,
   "metadata": {},
   "outputs": [
    {
     "name": "stdout",
     "output_type": "stream",
     "text": [
      "[(1, 'insertion ', 1), (2, 'insertion ', 1), (15, 'insertion ', 1), (51, 'phoneme ', 1), (47, 'skipping ', 1), (83, 'accent ', 1), (95, 'accent ', 1), (3, 'insertion ', 2), (4, 'insertion ', 2), (5, 'insertion ', 2)]\n"
     ]
    }
   ],
   "source": [
    "print(sorted_tasks[3])\n"
   ]
  },
  {
   "cell_type": "markdown",
   "metadata": {},
   "source": [
    "### Как оцениваем качество?\n",
    "Precision@K  \n",
    " т.е. отношение числа релевантных заданий в первых k предложенных к k"
   ]
  },
  {
   "cell_type": "markdown",
   "metadata": {},
   "source": [
    "Проблема: нет размеченного датасета. Откуда брать истинно релевантные задания?  \n",
    "Два способа:  \n",
    "* использовать \"экспертную оценку\", но у нас нет экспертов\n",
    "* использовать данные о пройденых заданиях и фиксировать изменение значений score"
   ]
  },
  {
   "cell_type": "code",
   "execution_count": 13,
   "metadata": {},
   "outputs": [
    {
     "data": {
      "text/plain": [
       "{'id': 1,\n",
       " 'name': 'Andrew',\n",
       " 'email': 'test@test.com',\n",
       " 'password': 'test',\n",
       " 'scores': {'user_score_grammar': 70,\n",
       "  'user_score_listenning': 60,\n",
       "  'user_score_reading_insertion': 50,\n",
       "  'user_score_reading_skipping': 40,\n",
       "  'user_score_reading_phoneme': 40,\n",
       "  'user_score_reading_accent': 40,\n",
       "  'user_group_id': 3}}"
      ]
     },
     "execution_count": 13,
     "metadata": {},
     "output_type": "execute_result"
    }
   ],
   "source": [
    "model.database.get_user(\"test@test.com\")"
   ]
  },
  {
   "cell_type": "markdown",
   "metadata": {},
   "source": [
    "Искусственный пример того, как пользователь проходит задания:"
   ]
  },
  {
   "cell_type": "code",
   "execution_count": 14,
   "metadata": {},
   "outputs": [
    {
     "name": "stderr",
     "output_type": "stream",
     "text": [
      "/home/dr_drew/Projects/PRiRS/playground/server/server_env/lib/python3.12/site-packages/tqdm/auto.py:21: TqdmWarning: IProgress not found. Please update jupyter and ipywidgets. See https://ipywidgets.readthedocs.io/en/stable/user_install.html\n",
      "  from .autonotebook import tqdm as notebook_tqdm\n"
     ]
    }
   ],
   "source": [
    "from speakChecker.pronunciation_check import compare_phonemes, PronunciationModel"
   ]
  },
  {
   "cell_type": "code",
   "execution_count": 15,
   "metadata": {},
   "outputs": [],
   "source": [
    "import pandas as pd\n",
    "from phonemizer import phonemize\n"
   ]
  },
  {
   "cell_type": "code",
   "execution_count": 16,
   "metadata": {},
   "outputs": [
    {
     "data": {
      "text/html": [
       "<div>\n",
       "<style scoped>\n",
       "    .dataframe tbody tr th:only-of-type {\n",
       "        vertical-align: middle;\n",
       "    }\n",
       "\n",
       "    .dataframe tbody tr th {\n",
       "        vertical-align: top;\n",
       "    }\n",
       "\n",
       "    .dataframe thead th {\n",
       "        text-align: right;\n",
       "    }\n",
       "</style>\n",
       "<table border=\"1\" class=\"dataframe\">\n",
       "  <thead>\n",
       "    <tr style=\"text-align: right;\">\n",
       "      <th></th>\n",
       "      <th>recived</th>\n",
       "    </tr>\n",
       "  </thead>\n",
       "  <tbody>\n",
       "    <tr>\n",
       "      <th>0</th>\n",
       "      <td>ðə kat sæt ɑːnðə mæt</td>\n",
       "    </tr>\n",
       "    <tr>\n",
       "      <th>1</th>\n",
       "      <td>ʃiː wɛnt tə zə stoːɹ</td>\n",
       "    </tr>\n",
       "    <tr>\n",
       "      <th>2</th>\n",
       "      <td>aɪ lʌv iːɾɪŋ æpəlz</td>\n",
       "    </tr>\n",
       "    <tr>\n",
       "      <th>3</th>\n",
       "      <td>hiː sɪŋz bjuːɾɪfəli</td>\n",
       "    </tr>\n",
       "    <tr>\n",
       "      <th>4</th>\n",
       "      <td>ðə dɑːɡ bɑːɹkt laʊdli</td>\n",
       "    </tr>\n",
       "  </tbody>\n",
       "</table>\n",
       "</div>"
      ],
      "text/plain": [
       "                  recived\n",
       "0   ðə kat sæt ɑːnðə mæt \n",
       "1   ʃiː wɛnt tə zə stoːɹ \n",
       "2     aɪ lʌv iːɾɪŋ æpəlz \n",
       "3    hiː sɪŋz bjuːɾɪfəli \n",
       "4  ðə dɑːɡ bɑːɹkt laʊdli "
      ]
     },
     "execution_count": 16,
     "metadata": {},
     "output_type": "execute_result"
    }
   ],
   "source": [
    "readed_tasks = pd.read_csv(\"logged_tasks.csv\", names=[\"recived\"])\n",
    "readed_tasks.head()"
   ]
  },
  {
   "cell_type": "code",
   "execution_count": 17,
   "metadata": {},
   "outputs": [
    {
     "name": "stdout",
     "output_type": "stream",
     "text": [
      "{'id': 1, 'name': 'Andrew', 'email': 'test@test.com', 'password': 'test', 'scores': {'user_score_grammar': 70, 'user_score_listenning': 60, 'user_score_reading_insertion': 50, 'user_score_reading_skipping': 40, 'user_score_reading_phoneme': 40, 'user_score_reading_accent': 40, 'user_group_id': 3}}\n",
      "{'user_score_reading_phoneme': 41, 'user_score_reading_skipping': 41, 'user_score_reading_insertion': 51}\n",
      "\n",
      "[(47, 'skipping ', 1), (51, 'phoneme ', 1), (83, 'accent ', 1), (95, 'accent ', 1), (1, 'insertion ', 1), (2, 'insertion ', 1), (15, 'insertion ', 1), (26, 'skipping ', 2), (27, 'skipping ', 2), (28, 'skipping ', 2)]\n",
      "\n",
      "[(1, 'insertion ', 1), (2, 'insertion ', 1), (15, 'insertion ', 1), (47, 'skipping ', 1), (51, 'phoneme ', 1), (83, 'accent ', 1), (95, 'accent ', 1), (3, 'insertion ', 2), (4, 'insertion ', 2), (5, 'insertion ', 2)]\n",
      "\n",
      "[(1, 'insertion ', 1), (2, 'insertion ', 1), (15, 'insertion ', 1), (51, 'phoneme ', 1), (47, 'skipping ', 1), (3, 'insertion ', 2), (4, 'insertion ', 2), (5, 'insertion ', 2), (13, 'insertion ', 2), (14, 'insertion ', 2)]\n",
      "\n",
      "[(1, 'insertion ', 1), (2, 'insertion ', 1), (15, 'insertion ', 1), (51, 'phoneme ', 1), (47, 'skipping ', 1), (83, 'accent ', 1), (95, 'accent ', 1), (3, 'insertion ', 2), (4, 'insertion ', 2), (5, 'insertion ', 2)]\n",
      "\n",
      "[(1, 'insertion ', 1), (2, 'insertion ', 1), (15, 'insertion ', 1), (47, 'skipping ', 1), (83, 'accent ', 1), (95, 'accent ', 1), (51, 'phoneme ', 1), (3, 'insertion ', 2), (4, 'insertion ', 2), (5, 'insertion ', 2)]\n",
      "\n"
     ]
    },
    {
     "name": "stderr",
     "output_type": "stream",
     "text": [
      "/home/dr_drew/Projects/PRiRS/playground/server/server_env/lib/python3.12/site-packages/scipy/spatial/distance.py:685: RuntimeWarning: invalid value encountered in scalar divide\n",
      "  dist = 1.0 - uv / math.sqrt(uu * vv)\n"
     ]
    },
    {
     "name": "stdout",
     "output_type": "stream",
     "text": [
      "{'user_score_reading_phoneme': 37, 'user_score_reading_skipping': 42, 'user_score_reading_insertion': 52}\n",
      "\n",
      "[(2, 'insertion ', 1), (15, 'insertion ', 1), (47, 'skipping ', 1), (51, 'phoneme ', 1), (83, 'accent ', 1), (95, 'accent ', 1), (3, 'insertion ', 2), (4, 'insertion ', 2), (5, 'insertion ', 2), (13, 'insertion ', 2)]\n",
      "\n",
      "[(2, 'insertion ', 1), (15, 'insertion ', 1), (47, 'skipping ', 1), (83, 'accent ', 1), (95, 'accent ', 1), (51, 'phoneme ', 1), (3, 'insertion ', 2), (4, 'insertion ', 2), (5, 'insertion ', 2), (13, 'insertion ', 2)]\n",
      "\n",
      "[(2, 'insertion ', 1), (15, 'insertion ', 1), (51, 'phoneme ', 1), (47, 'skipping ', 1), (3, 'insertion ', 2), (4, 'insertion ', 2), (5, 'insertion ', 2), (13, 'insertion ', 2), (14, 'insertion ', 2), (18, 'insertion ', 2)]\n",
      "\n",
      "[(51, 'phoneme ', 1), (2, 'insertion ', 1), (15, 'insertion ', 1), (47, 'skipping ', 1), (83, 'accent ', 1), (95, 'accent ', 1), (52, 'phoneme ', 2), (64, 'phoneme ', 2), (67, 'phoneme ', 2), (70, 'phoneme ', 2)]\n",
      "\n",
      "[(47, 'skipping ', 1), (51, 'phoneme ', 1), (83, 'accent ', 1), (95, 'accent ', 1), (2, 'insertion ', 1), (15, 'insertion ', 1), (26, 'skipping ', 2), (27, 'skipping ', 2), (28, 'skipping ', 2), (41, 'skipping ', 2)]\n",
      "\n"
     ]
    },
    {
     "name": "stderr",
     "output_type": "stream",
     "text": [
      "/home/dr_drew/Projects/PRiRS/playground/server/server_env/lib/python3.12/site-packages/scipy/spatial/distance.py:685: RuntimeWarning: invalid value encountered in scalar divide\n",
      "  dist = 1.0 - uv / math.sqrt(uu * vv)\n"
     ]
    },
    {
     "name": "stdout",
     "output_type": "stream",
     "text": [
      "{'user_score_reading_phoneme': 38, 'user_score_reading_skipping': 43, 'user_score_reading_insertion': 53}\n",
      "\n",
      "[(47, 'skipping ', 1), (83, 'accent ', 1), (95, 'accent ', 1), (2, 'insertion ', 1), (15, 'insertion ', 1), (26, 'skipping ', 2), (27, 'skipping ', 2), (28, 'skipping ', 2), (41, 'skipping ', 2), (50, 'skipping ', 2)]\n",
      "\n",
      "[(2, 'insertion ', 1), (15, 'insertion ', 1), (47, 'skipping ', 1), (83, 'accent ', 1), (95, 'accent ', 1), (52, 'phoneme ', 2), (64, 'phoneme ', 2), (67, 'phoneme ', 2), (70, 'phoneme ', 2), (71, 'phoneme ', 2)]\n",
      "\n",
      "[(2, 'insertion ', 1), (15, 'insertion ', 1), (47, 'skipping ', 1), (83, 'accent ', 1), (95, 'accent ', 1), (3, 'insertion ', 2), (4, 'insertion ', 2), (5, 'insertion ', 2), (13, 'insertion ', 2), (14, 'insertion ', 2)]\n",
      "\n",
      "[(2, 'insertion ', 1), (15, 'insertion ', 1), (47, 'skipping ', 1), (3, 'insertion ', 2), (4, 'insertion ', 2), (5, 'insertion ', 2), (13, 'insertion ', 2), (14, 'insertion ', 2), (18, 'insertion ', 2), (25, 'insertion ', 2)]\n",
      "\n",
      "[(2, 'insertion ', 1), (15, 'insertion ', 1), (47, 'skipping ', 1), (83, 'accent ', 1), (95, 'accent ', 1), (3, 'insertion ', 2), (4, 'insertion ', 2), (5, 'insertion ', 2), (13, 'insertion ', 2), (14, 'insertion ', 2)]\n",
      "\n"
     ]
    },
    {
     "name": "stderr",
     "output_type": "stream",
     "text": [
      "/home/dr_drew/Projects/PRiRS/playground/server/server_env/lib/python3.12/site-packages/scipy/spatial/distance.py:685: RuntimeWarning: invalid value encountered in scalar divide\n",
      "  dist = 1.0 - uv / math.sqrt(uu * vv)\n"
     ]
    },
    {
     "name": "stdout",
     "output_type": "stream",
     "text": [
      "{'user_score_reading_phoneme': 34, 'user_score_reading_skipping': 44, 'user_score_reading_insertion': 54}\n",
      "\n",
      "[(15, 'insertion ', 1), (47, 'skipping ', 1), (83, 'accent ', 1), (95, 'accent ', 1), (3, 'insertion ', 2), (4, 'insertion ', 2), (5, 'insertion ', 2), (13, 'insertion ', 2), (14, 'insertion ', 2), (18, 'insertion ', 2)]\n",
      "\n",
      "[(15, 'insertion ', 1), (47, 'skipping ', 1), (83, 'accent ', 1), (95, 'accent ', 1), (3, 'insertion ', 2), (4, 'insertion ', 2), (5, 'insertion ', 2), (13, 'insertion ', 2), (14, 'insertion ', 2), (18, 'insertion ', 2)]\n",
      "\n",
      "[(47, 'skipping ', 1), (83, 'accent ', 1), (95, 'accent ', 1), (15, 'insertion ', 1), (26, 'skipping ', 2), (27, 'skipping ', 2), (28, 'skipping ', 2), (41, 'skipping ', 2), (50, 'skipping ', 2), (52, 'phoneme ', 2)]\n",
      "\n",
      "[(15, 'insertion ', 1), (47, 'skipping ', 1), (83, 'accent ', 1), (95, 'accent ', 1), (52, 'phoneme ', 2), (64, 'phoneme ', 2), (67, 'phoneme ', 2), (70, 'phoneme ', 2), (71, 'phoneme ', 2), (73, 'phoneme ', 2)]\n",
      "\n",
      "[(15, 'insertion ', 1), (47, 'skipping ', 1), (3, 'insertion ', 2), (4, 'insertion ', 2), (5, 'insertion ', 2), (13, 'insertion ', 2), (14, 'insertion ', 2), (18, 'insertion ', 2), (25, 'insertion ', 2), (52, 'phoneme ', 2)]\n",
      "\n"
     ]
    },
    {
     "name": "stderr",
     "output_type": "stream",
     "text": [
      "/home/dr_drew/Projects/PRiRS/playground/server/server_env/lib/python3.12/site-packages/scipy/spatial/distance.py:685: RuntimeWarning: invalid value encountered in scalar divide\n",
      "  dist = 1.0 - uv / math.sqrt(uu * vv)\n"
     ]
    },
    {
     "name": "stdout",
     "output_type": "stream",
     "text": [
      "{'user_score_reading_phoneme': 35, 'user_score_reading_skipping': 45, 'user_score_reading_insertion': 55}\n",
      "\n",
      "[(47, 'skipping ', 1), (83, 'accent ', 1), (95, 'accent ', 1), (3, 'insertion ', 2), (4, 'insertion ', 2), (5, 'insertion ', 2), (13, 'insertion ', 2), (14, 'insertion ', 2), (18, 'insertion ', 2), (25, 'insertion ', 2)]\n",
      "\n",
      "[(47, 'skipping ', 1), (83, 'accent ', 1), (95, 'accent ', 1), (26, 'skipping ', 2), (27, 'skipping ', 2), (28, 'skipping ', 2), (41, 'skipping ', 2), (50, 'skipping ', 2), (52, 'phoneme ', 2), (64, 'phoneme ', 2)]\n",
      "\n",
      "[(47, 'skipping ', 1), (83, 'accent ', 1), (95, 'accent ', 1), (52, 'phoneme ', 2), (64, 'phoneme ', 2), (67, 'phoneme ', 2), (70, 'phoneme ', 2), (71, 'phoneme ', 2), (73, 'phoneme ', 2), (75, 'phoneme ', 2)]\n",
      "\n",
      "[(47, 'skipping ', 1), (83, 'accent ', 1), (95, 'accent ', 1), (3, 'insertion ', 2), (4, 'insertion ', 2), (5, 'insertion ', 2), (13, 'insertion ', 2), (14, 'insertion ', 2), (18, 'insertion ', 2), (25, 'insertion ', 2)]\n",
      "\n",
      "[(47, 'skipping ', 1), (3, 'insertion ', 2), (4, 'insertion ', 2), (5, 'insertion ', 2), (13, 'insertion ', 2), (14, 'insertion ', 2), (18, 'insertion ', 2), (25, 'insertion ', 2), (52, 'phoneme ', 2), (64, 'phoneme ', 2)]\n",
      "\n"
     ]
    },
    {
     "name": "stderr",
     "output_type": "stream",
     "text": [
      "/home/dr_drew/Projects/PRiRS/playground/server/server_env/lib/python3.12/site-packages/scipy/spatial/distance.py:685: RuntimeWarning: invalid value encountered in scalar divide\n",
      "  dist = 1.0 - uv / math.sqrt(uu * vv)\n"
     ]
    },
    {
     "name": "stdout",
     "output_type": "stream",
     "text": [
      "{'user_score_reading_phoneme': 36, 'user_score_reading_skipping': 46, 'user_score_reading_insertion': 56}\n",
      "\n",
      "[(83, 'accent ', 1), (95, 'accent ', 1), (26, 'skipping ', 2), (27, 'skipping ', 2), (28, 'skipping ', 2), (41, 'skipping ', 2), (50, 'skipping ', 2), (52, 'phoneme ', 2), (64, 'phoneme ', 2), (67, 'phoneme ', 2)]\n",
      "\n",
      "[(83, 'accent ', 1), (95, 'accent ', 1), (52, 'phoneme ', 2), (64, 'phoneme ', 2), (67, 'phoneme ', 2), (70, 'phoneme ', 2), (71, 'phoneme ', 2), (73, 'phoneme ', 2), (75, 'phoneme ', 2), (3, 'insertion ', 2)]\n",
      "\n",
      "[(83, 'accent ', 1), (95, 'accent ', 1), (3, 'insertion ', 2), (4, 'insertion ', 2), (5, 'insertion ', 2), (13, 'insertion ', 2), (14, 'insertion ', 2), (18, 'insertion ', 2), (25, 'insertion ', 2), (26, 'skipping ', 2)]\n",
      "\n",
      "[(3, 'insertion ', 2), (4, 'insertion ', 2), (5, 'insertion ', 2), (13, 'insertion ', 2), (14, 'insertion ', 2), (18, 'insertion ', 2), (25, 'insertion ', 2), (52, 'phoneme ', 2), (64, 'phoneme ', 2), (67, 'phoneme ', 2)]\n",
      "\n",
      "[(83, 'accent ', 1), (95, 'accent ', 1), (3, 'insertion ', 2), (4, 'insertion ', 2), (5, 'insertion ', 2), (13, 'insertion ', 2), (14, 'insertion ', 2), (18, 'insertion ', 2), (25, 'insertion ', 2), (26, 'skipping ', 2)]\n",
      "\n"
     ]
    },
    {
     "name": "stderr",
     "output_type": "stream",
     "text": [
      "/home/dr_drew/Projects/PRiRS/playground/server/server_env/lib/python3.12/site-packages/scipy/spatial/distance.py:685: RuntimeWarning: invalid value encountered in scalar divide\n",
      "  dist = 1.0 - uv / math.sqrt(uu * vv)\n"
     ]
    },
    {
     "name": "stdout",
     "output_type": "stream",
     "text": [
      "{'user_score_reading_phoneme': 37, 'user_score_reading_skipping': 47, 'user_score_reading_insertion': 57}\n",
      "\n",
      "[(95, 'accent ', 1), (3, 'insertion ', 2), (4, 'insertion ', 2), (5, 'insertion ', 2), (13, 'insertion ', 2), (14, 'insertion ', 2), (18, 'insertion ', 2), (25, 'insertion ', 2), (26, 'skipping ', 2), (27, 'skipping ', 2)]\n",
      "\n",
      "[(95, 'accent ', 1), (3, 'insertion ', 2), (4, 'insertion ', 2), (5, 'insertion ', 2), (13, 'insertion ', 2), (14, 'insertion ', 2), (18, 'insertion ', 2), (25, 'insertion ', 2), (26, 'skipping ', 2), (27, 'skipping ', 2)]\n",
      "\n",
      "[(95, 'accent ', 1), (26, 'skipping ', 2), (27, 'skipping ', 2), (28, 'skipping ', 2), (41, 'skipping ', 2), (50, 'skipping ', 2), (52, 'phoneme ', 2), (64, 'phoneme ', 2), (67, 'phoneme ', 2), (70, 'phoneme ', 2)]\n",
      "\n",
      "[(95, 'accent ', 1), (52, 'phoneme ', 2), (64, 'phoneme ', 2), (67, 'phoneme ', 2), (70, 'phoneme ', 2), (71, 'phoneme ', 2), (73, 'phoneme ', 2), (75, 'phoneme ', 2), (3, 'insertion ', 2), (4, 'insertion ', 2)]\n",
      "\n",
      "[(3, 'insertion ', 2), (4, 'insertion ', 2), (5, 'insertion ', 2), (13, 'insertion ', 2), (14, 'insertion ', 2), (18, 'insertion ', 2), (25, 'insertion ', 2), (52, 'phoneme ', 2), (64, 'phoneme ', 2), (67, 'phoneme ', 2)]\n",
      "\n"
     ]
    },
    {
     "name": "stderr",
     "output_type": "stream",
     "text": [
      "/home/dr_drew/Projects/PRiRS/playground/server/server_env/lib/python3.12/site-packages/scipy/spatial/distance.py:685: RuntimeWarning: invalid value encountered in scalar divide\n",
      "  dist = 1.0 - uv / math.sqrt(uu * vv)\n"
     ]
    },
    {
     "name": "stdout",
     "output_type": "stream",
     "text": [
      "{'user_score_reading_phoneme': 38, 'user_score_reading_skipping': 48, 'user_score_reading_insertion': 58}\n",
      "\n",
      "[(26, 'skipping ', 2), (27, 'skipping ', 2), (28, 'skipping ', 2), (41, 'skipping ', 2), (50, 'skipping ', 2), (52, 'phoneme ', 2), (64, 'phoneme ', 2), (67, 'phoneme ', 2), (70, 'phoneme ', 2), (71, 'phoneme ', 2)]\n",
      "\n",
      "[(52, 'phoneme ', 2), (64, 'phoneme ', 2), (67, 'phoneme ', 2), (70, 'phoneme ', 2), (71, 'phoneme ', 2), (73, 'phoneme ', 2), (75, 'phoneme ', 2), (3, 'insertion ', 2), (4, 'insertion ', 2), (5, 'insertion ', 2)]\n",
      "\n",
      "[(3, 'insertion ', 2), (4, 'insertion ', 2), (5, 'insertion ', 2), (13, 'insertion ', 2), (14, 'insertion ', 2), (18, 'insertion ', 2), (25, 'insertion ', 2), (26, 'skipping ', 2), (27, 'skipping ', 2), (28, 'skipping ', 2)]\n",
      "\n",
      "[(3, 'insertion ', 2), (4, 'insertion ', 2), (5, 'insertion ', 2), (13, 'insertion ', 2), (14, 'insertion ', 2), (18, 'insertion ', 2), (25, 'insertion ', 2), (52, 'phoneme ', 2), (64, 'phoneme ', 2), (67, 'phoneme ', 2)]\n",
      "\n",
      "[(3, 'insertion ', 2), (4, 'insertion ', 2), (5, 'insertion ', 2), (13, 'insertion ', 2), (14, 'insertion ', 2), (18, 'insertion ', 2), (25, 'insertion ', 2), (26, 'skipping ', 2), (27, 'skipping ', 2), (28, 'skipping ', 2)]\n",
      "\n"
     ]
    },
    {
     "name": "stderr",
     "output_type": "stream",
     "text": [
      "/home/dr_drew/Projects/PRiRS/playground/server/server_env/lib/python3.12/site-packages/scipy/spatial/distance.py:685: RuntimeWarning: invalid value encountered in scalar divide\n",
      "  dist = 1.0 - uv / math.sqrt(uu * vv)\n"
     ]
    },
    {
     "name": "stdout",
     "output_type": "stream",
     "text": [
      "{'user_score_reading_phoneme': 39, 'user_score_reading_skipping': 49, 'user_score_reading_insertion': 59}\n",
      "\n",
      "[(3, 'insertion ', 2), (4, 'insertion ', 2), (5, 'insertion ', 2), (13, 'insertion ', 2), (14, 'insertion ', 2), (18, 'insertion ', 2), (25, 'insertion ', 2), (26, 'skipping ', 2), (27, 'skipping ', 2), (28, 'skipping ', 2)]\n",
      "\n",
      "[(3, 'insertion ', 2), (4, 'insertion ', 2), (5, 'insertion ', 2), (13, 'insertion ', 2), (14, 'insertion ', 2), (18, 'insertion ', 2), (25, 'insertion ', 2), (26, 'skipping ', 2), (27, 'skipping ', 2), (28, 'skipping ', 2)]\n",
      "\n",
      "[(26, 'skipping ', 2), (27, 'skipping ', 2), (28, 'skipping ', 2), (41, 'skipping ', 2), (50, 'skipping ', 2), (64, 'phoneme ', 2), (67, 'phoneme ', 2), (70, 'phoneme ', 2), (71, 'phoneme ', 2), (73, 'phoneme ', 2)]\n",
      "\n",
      "[(64, 'phoneme ', 2), (67, 'phoneme ', 2), (70, 'phoneme ', 2), (71, 'phoneme ', 2), (73, 'phoneme ', 2), (75, 'phoneme ', 2), (3, 'insertion ', 2), (4, 'insertion ', 2), (5, 'insertion ', 2), (13, 'insertion ', 2)]\n",
      "\n",
      "[(3, 'insertion ', 2), (4, 'insertion ', 2), (5, 'insertion ', 2), (13, 'insertion ', 2), (14, 'insertion ', 2), (18, 'insertion ', 2), (25, 'insertion ', 2), (64, 'phoneme ', 2), (67, 'phoneme ', 2), (70, 'phoneme ', 2)]\n",
      "\n"
     ]
    },
    {
     "name": "stderr",
     "output_type": "stream",
     "text": [
      "/home/dr_drew/Projects/PRiRS/playground/server/server_env/lib/python3.12/site-packages/scipy/spatial/distance.py:685: RuntimeWarning: invalid value encountered in scalar divide\n",
      "  dist = 1.0 - uv / math.sqrt(uu * vv)\n"
     ]
    },
    {
     "name": "stdout",
     "output_type": "stream",
     "text": [
      "{'user_score_reading_phoneme': 40, 'user_score_reading_skipping': 50, 'user_score_reading_insertion': 54}\n",
      "\n",
      "[(26, 'skipping ', 2), (27, 'skipping ', 2), (28, 'skipping ', 2), (41, 'skipping ', 2), (50, 'skipping ', 2), (67, 'phoneme ', 2), (70, 'phoneme ', 2), (71, 'phoneme ', 2), (73, 'phoneme ', 2), (75, 'phoneme ', 2)]\n",
      "\n",
      "[(67, 'phoneme ', 2), (70, 'phoneme ', 2), (71, 'phoneme ', 2), (73, 'phoneme ', 2), (75, 'phoneme ', 2), (3, 'insertion ', 2), (4, 'insertion ', 2), (5, 'insertion ', 2), (13, 'insertion ', 2), (14, 'insertion ', 2)]\n",
      "\n",
      "[(3, 'insertion ', 2), (4, 'insertion ', 2), (5, 'insertion ', 2), (13, 'insertion ', 2), (14, 'insertion ', 2), (18, 'insertion ', 2), (25, 'insertion ', 2), (26, 'skipping ', 2), (27, 'skipping ', 2), (28, 'skipping ', 2)]\n",
      "\n",
      "[(3, 'insertion ', 2), (4, 'insertion ', 2), (5, 'insertion ', 2), (13, 'insertion ', 2), (14, 'insertion ', 2), (18, 'insertion ', 2), (25, 'insertion ', 2), (67, 'phoneme ', 2), (70, 'phoneme ', 2), (71, 'phoneme ', 2)]\n",
      "\n",
      "[(3, 'insertion ', 2), (4, 'insertion ', 2), (5, 'insertion ', 2), (13, 'insertion ', 2), (14, 'insertion ', 2), (18, 'insertion ', 2), (25, 'insertion ', 2), (26, 'skipping ', 2), (27, 'skipping ', 2), (28, 'skipping ', 2)]\n",
      "\n"
     ]
    },
    {
     "name": "stderr",
     "output_type": "stream",
     "text": [
      "/home/dr_drew/Projects/PRiRS/playground/server/server_env/lib/python3.12/site-packages/scipy/spatial/distance.py:685: RuntimeWarning: invalid value encountered in scalar divide\n",
      "  dist = 1.0 - uv / math.sqrt(uu * vv)\n"
     ]
    },
    {
     "name": "stdout",
     "output_type": "stream",
     "text": [
      "{'user_score_reading_phoneme': 41, 'user_score_reading_skipping': 51, 'user_score_reading_insertion': 55}\n",
      "\n",
      "[(3, 'insertion ', 2), (4, 'insertion ', 2), (5, 'insertion ', 2), (13, 'insertion ', 2), (14, 'insertion ', 2), (18, 'insertion ', 2), (25, 'insertion ', 2), (26, 'skipping ', 2), (27, 'skipping ', 2), (28, 'skipping ', 2)]\n",
      "\n",
      "[(3, 'insertion ', 2), (4, 'insertion ', 2), (5, 'insertion ', 2), (13, 'insertion ', 2), (14, 'insertion ', 2), (18, 'insertion ', 2), (25, 'insertion ', 2), (26, 'skipping ', 2), (27, 'skipping ', 2), (28, 'skipping ', 2)]\n",
      "\n",
      "[(26, 'skipping ', 2), (27, 'skipping ', 2), (28, 'skipping ', 2), (41, 'skipping ', 2), (50, 'skipping ', 2), (70, 'phoneme ', 2), (71, 'phoneme ', 2), (73, 'phoneme ', 2), (75, 'phoneme ', 2), (76, 'accent ', 2)]\n",
      "\n",
      "[(70, 'phoneme ', 2), (71, 'phoneme ', 2), (73, 'phoneme ', 2), (75, 'phoneme ', 2), (3, 'insertion ', 2), (4, 'insertion ', 2), (5, 'insertion ', 2), (13, 'insertion ', 2), (14, 'insertion ', 2), (18, 'insertion ', 2)]\n",
      "\n",
      "[(3, 'insertion ', 2), (4, 'insertion ', 2), (5, 'insertion ', 2), (13, 'insertion ', 2), (14, 'insertion ', 2), (18, 'insertion ', 2), (25, 'insertion ', 2), (70, 'phoneme ', 2), (71, 'phoneme ', 2), (73, 'phoneme ', 2)]\n",
      "\n"
     ]
    },
    {
     "name": "stderr",
     "output_type": "stream",
     "text": [
      "/home/dr_drew/Projects/PRiRS/playground/server/server_env/lib/python3.12/site-packages/scipy/spatial/distance.py:685: RuntimeWarning: invalid value encountered in scalar divide\n",
      "  dist = 1.0 - uv / math.sqrt(uu * vv)\n"
     ]
    },
    {
     "name": "stdout",
     "output_type": "stream",
     "text": [
      "{'user_score_reading_phoneme': 42, 'user_score_reading_skipping': 52, 'user_score_reading_insertion': 56}\n",
      "\n",
      "[(26, 'skipping ', 2), (27, 'skipping ', 2), (28, 'skipping ', 2), (41, 'skipping ', 2), (50, 'skipping ', 2), (71, 'phoneme ', 2), (73, 'phoneme ', 2), (75, 'phoneme ', 2), (76, 'accent ', 2), (81, 'accent ', 2)]\n",
      "\n",
      "[(71, 'phoneme ', 2), (73, 'phoneme ', 2), (75, 'phoneme ', 2), (3, 'insertion ', 2), (4, 'insertion ', 2), (5, 'insertion ', 2), (13, 'insertion ', 2), (14, 'insertion ', 2), (18, 'insertion ', 2), (25, 'insertion ', 2)]\n",
      "\n",
      "[(3, 'insertion ', 2), (4, 'insertion ', 2), (5, 'insertion ', 2), (13, 'insertion ', 2), (14, 'insertion ', 2), (18, 'insertion ', 2), (25, 'insertion ', 2), (26, 'skipping ', 2), (27, 'skipping ', 2), (28, 'skipping ', 2)]\n",
      "\n",
      "[(3, 'insertion ', 2), (4, 'insertion ', 2), (5, 'insertion ', 2), (13, 'insertion ', 2), (14, 'insertion ', 2), (18, 'insertion ', 2), (25, 'insertion ', 2), (71, 'phoneme ', 2), (73, 'phoneme ', 2), (75, 'phoneme ', 2)]\n",
      "\n",
      "[(3, 'insertion ', 2), (4, 'insertion ', 2), (5, 'insertion ', 2), (13, 'insertion ', 2), (14, 'insertion ', 2), (18, 'insertion ', 2), (25, 'insertion ', 2), (26, 'skipping ', 2), (27, 'skipping ', 2), (28, 'skipping ', 2)]\n",
      "\n"
     ]
    },
    {
     "name": "stderr",
     "output_type": "stream",
     "text": [
      "/home/dr_drew/Projects/PRiRS/playground/server/server_env/lib/python3.12/site-packages/scipy/spatial/distance.py:685: RuntimeWarning: invalid value encountered in scalar divide\n",
      "  dist = 1.0 - uv / math.sqrt(uu * vv)\n"
     ]
    },
    {
     "name": "stdout",
     "output_type": "stream",
     "text": [
      "{'user_score_reading_phoneme': 43, 'user_score_reading_skipping': 53, 'user_score_reading_insertion': 57}\n",
      "\n",
      "[(3, 'insertion ', 2), (4, 'insertion ', 2), (5, 'insertion ', 2), (13, 'insertion ', 2), (14, 'insertion ', 2), (18, 'insertion ', 2), (25, 'insertion ', 2), (26, 'skipping ', 2), (27, 'skipping ', 2), (28, 'skipping ', 2)]\n",
      "\n",
      "[(3, 'insertion ', 2), (4, 'insertion ', 2), (5, 'insertion ', 2), (13, 'insertion ', 2), (14, 'insertion ', 2), (18, 'insertion ', 2), (25, 'insertion ', 2), (26, 'skipping ', 2), (27, 'skipping ', 2), (28, 'skipping ', 2)]\n",
      "\n",
      "[(26, 'skipping ', 2), (27, 'skipping ', 2), (28, 'skipping ', 2), (41, 'skipping ', 2), (50, 'skipping ', 2), (73, 'phoneme ', 2), (75, 'phoneme ', 2), (76, 'accent ', 2), (81, 'accent ', 2), (87, 'accent ', 2)]\n",
      "\n",
      "[(73, 'phoneme ', 2), (75, 'phoneme ', 2), (3, 'insertion ', 2), (4, 'insertion ', 2), (5, 'insertion ', 2), (13, 'insertion ', 2), (14, 'insertion ', 2), (18, 'insertion ', 2), (25, 'insertion ', 2), (26, 'skipping ', 2)]\n",
      "\n",
      "[(3, 'insertion ', 2), (4, 'insertion ', 2), (5, 'insertion ', 2), (13, 'insertion ', 2), (14, 'insertion ', 2), (18, 'insertion ', 2), (25, 'insertion ', 2), (73, 'phoneme ', 2), (75, 'phoneme ', 2), (26, 'skipping ', 2)]\n",
      "\n"
     ]
    },
    {
     "name": "stderr",
     "output_type": "stream",
     "text": [
      "/home/dr_drew/Projects/PRiRS/playground/server/server_env/lib/python3.12/site-packages/scipy/spatial/distance.py:685: RuntimeWarning: invalid value encountered in scalar divide\n",
      "  dist = 1.0 - uv / math.sqrt(uu * vv)\n"
     ]
    },
    {
     "name": "stdout",
     "output_type": "stream",
     "text": [
      "{'user_score_reading_phoneme': 39, 'user_score_reading_skipping': 54, 'user_score_reading_insertion': 58}\n",
      "\n",
      "[(26, 'skipping ', 2), (27, 'skipping ', 2), (28, 'skipping ', 2), (41, 'skipping ', 2), (50, 'skipping ', 2), (75, 'phoneme ', 2), (76, 'accent ', 2), (81, 'accent ', 2), (87, 'accent ', 2), (90, 'accent ', 2)]\n",
      "\n",
      "[(75, 'phoneme ', 2), (3, 'insertion ', 2), (4, 'insertion ', 2), (5, 'insertion ', 2), (13, 'insertion ', 2), (14, 'insertion ', 2), (18, 'insertion ', 2), (25, 'insertion ', 2), (26, 'skipping ', 2), (27, 'skipping ', 2)]\n",
      "\n",
      "[(3, 'insertion ', 2), (4, 'insertion ', 2), (5, 'insertion ', 2), (13, 'insertion ', 2), (14, 'insertion ', 2), (18, 'insertion ', 2), (25, 'insertion ', 2), (26, 'skipping ', 2), (27, 'skipping ', 2), (28, 'skipping ', 2)]\n",
      "\n",
      "[(3, 'insertion ', 2), (4, 'insertion ', 2), (5, 'insertion ', 2), (13, 'insertion ', 2), (14, 'insertion ', 2), (18, 'insertion ', 2), (25, 'insertion ', 2), (75, 'phoneme ', 2), (26, 'skipping ', 2), (27, 'skipping ', 2)]\n",
      "\n",
      "[(3, 'insertion ', 2), (4, 'insertion ', 2), (5, 'insertion ', 2), (13, 'insertion ', 2), (14, 'insertion ', 2), (18, 'insertion ', 2), (25, 'insertion ', 2), (26, 'skipping ', 2), (27, 'skipping ', 2), (28, 'skipping ', 2)]\n",
      "\n"
     ]
    },
    {
     "name": "stderr",
     "output_type": "stream",
     "text": [
      "/home/dr_drew/Projects/PRiRS/playground/server/server_env/lib/python3.12/site-packages/scipy/spatial/distance.py:685: RuntimeWarning: invalid value encountered in scalar divide\n",
      "  dist = 1.0 - uv / math.sqrt(uu * vv)\n"
     ]
    },
    {
     "name": "stdout",
     "output_type": "stream",
     "text": [
      "{'user_score_reading_phoneme': 40, 'user_score_reading_skipping': 55, 'user_score_reading_insertion': 59}\n",
      "\n",
      "[(3, 'insertion ', 2), (4, 'insertion ', 2), (5, 'insertion ', 2), (13, 'insertion ', 2), (14, 'insertion ', 2), (18, 'insertion ', 2), (25, 'insertion ', 2), (26, 'skipping ', 2), (27, 'skipping ', 2), (28, 'skipping ', 2)]\n",
      "\n",
      "[(3, 'insertion ', 2), (4, 'insertion ', 2), (5, 'insertion ', 2), (13, 'insertion ', 2), (14, 'insertion ', 2), (18, 'insertion ', 2), (25, 'insertion ', 2), (26, 'skipping ', 2), (27, 'skipping ', 2), (28, 'skipping ', 2)]\n",
      "\n",
      "[(26, 'skipping ', 2), (27, 'skipping ', 2), (28, 'skipping ', 2), (41, 'skipping ', 2), (50, 'skipping ', 2), (76, 'accent ', 2), (81, 'accent ', 2), (87, 'accent ', 2), (90, 'accent ', 2), (92, 'accent ', 2)]\n",
      "\n",
      "[(3, 'insertion ', 2), (4, 'insertion ', 2), (5, 'insertion ', 2), (13, 'insertion ', 2), (14, 'insertion ', 2), (18, 'insertion ', 2), (25, 'insertion ', 2), (26, 'skipping ', 2), (27, 'skipping ', 2), (28, 'skipping ', 2)]\n",
      "\n",
      "[(3, 'insertion ', 2), (4, 'insertion ', 2), (5, 'insertion ', 2), (13, 'insertion ', 2), (14, 'insertion ', 2), (18, 'insertion ', 2), (25, 'insertion ', 2), (26, 'skipping ', 2), (27, 'skipping ', 2), (28, 'skipping ', 2)]\n",
      "\n"
     ]
    },
    {
     "name": "stderr",
     "output_type": "stream",
     "text": [
      "/home/dr_drew/Projects/PRiRS/playground/server/server_env/lib/python3.12/site-packages/scipy/spatial/distance.py:685: RuntimeWarning: invalid value encountered in scalar divide\n",
      "  dist = 1.0 - uv / math.sqrt(uu * vv)\n"
     ]
    },
    {
     "name": "stdout",
     "output_type": "stream",
     "text": [
      "{'user_score_reading_phoneme': 41, 'user_score_reading_skipping': 56, 'user_score_reading_insertion': 60}\n",
      "\n",
      "[(26, 'skipping ', 2), (27, 'skipping ', 2), (28, 'skipping ', 2), (41, 'skipping ', 2), (50, 'skipping ', 2), (76, 'accent ', 2), (81, 'accent ', 2), (87, 'accent ', 2), (90, 'accent ', 2), (92, 'accent ', 2)]\n",
      "\n",
      "[(4, 'insertion ', 2), (5, 'insertion ', 2), (13, 'insertion ', 2), (14, 'insertion ', 2), (18, 'insertion ', 2), (25, 'insertion ', 2), (26, 'skipping ', 2), (27, 'skipping ', 2), (28, 'skipping ', 2), (41, 'skipping ', 2)]\n",
      "\n",
      "[(4, 'insertion ', 2), (5, 'insertion ', 2), (13, 'insertion ', 2), (14, 'insertion ', 2), (18, 'insertion ', 2), (25, 'insertion ', 2), (26, 'skipping ', 2), (27, 'skipping ', 2), (28, 'skipping ', 2), (41, 'skipping ', 2)]\n",
      "\n",
      "[(4, 'insertion ', 2), (5, 'insertion ', 2), (13, 'insertion ', 2), (14, 'insertion ', 2), (18, 'insertion ', 2), (25, 'insertion ', 2), (26, 'skipping ', 2), (27, 'skipping ', 2), (28, 'skipping ', 2), (41, 'skipping ', 2)]\n",
      "\n",
      "[(4, 'insertion ', 2), (5, 'insertion ', 2), (13, 'insertion ', 2), (14, 'insertion ', 2), (18, 'insertion ', 2), (25, 'insertion ', 2), (26, 'skipping ', 2), (27, 'skipping ', 2), (28, 'skipping ', 2), (41, 'skipping ', 2)]\n",
      "\n"
     ]
    },
    {
     "name": "stderr",
     "output_type": "stream",
     "text": [
      "/home/dr_drew/Projects/PRiRS/playground/server/server_env/lib/python3.12/site-packages/scipy/spatial/distance.py:685: RuntimeWarning: invalid value encountered in scalar divide\n",
      "  dist = 1.0 - uv / math.sqrt(uu * vv)\n"
     ]
    },
    {
     "name": "stdout",
     "output_type": "stream",
     "text": [
      "{'user_score_reading_phoneme': 42, 'user_score_reading_skipping': 57, 'user_score_reading_insertion': 61}\n",
      "\n",
      "[(5, 'insertion ', 2), (13, 'insertion ', 2), (14, 'insertion ', 2), (18, 'insertion ', 2), (25, 'insertion ', 2), (26, 'skipping ', 2), (27, 'skipping ', 2), (28, 'skipping ', 2), (41, 'skipping ', 2), (50, 'skipping ', 2)]\n",
      "\n",
      "[(5, 'insertion ', 2), (13, 'insertion ', 2), (14, 'insertion ', 2), (18, 'insertion ', 2), (25, 'insertion ', 2), (26, 'skipping ', 2), (27, 'skipping ', 2), (28, 'skipping ', 2), (41, 'skipping ', 2), (50, 'skipping ', 2)]\n",
      "\n",
      "[(26, 'skipping ', 2), (27, 'skipping ', 2), (28, 'skipping ', 2), (41, 'skipping ', 2), (50, 'skipping ', 2), (76, 'accent ', 2), (81, 'accent ', 2), (87, 'accent ', 2), (90, 'accent ', 2), (92, 'accent ', 2)]\n",
      "\n",
      "[(5, 'insertion ', 2), (13, 'insertion ', 2), (14, 'insertion ', 2), (18, 'insertion ', 2), (25, 'insertion ', 2), (26, 'skipping ', 2), (27, 'skipping ', 2), (28, 'skipping ', 2), (41, 'skipping ', 2), (50, 'skipping ', 2)]\n",
      "\n",
      "[(5, 'insertion ', 2), (13, 'insertion ', 2), (14, 'insertion ', 2), (18, 'insertion ', 2), (25, 'insertion ', 2), (26, 'skipping ', 2), (27, 'skipping ', 2), (28, 'skipping ', 2), (41, 'skipping ', 2), (50, 'skipping ', 2)]\n",
      "\n"
     ]
    },
    {
     "name": "stderr",
     "output_type": "stream",
     "text": [
      "/home/dr_drew/Projects/PRiRS/playground/server/server_env/lib/python3.12/site-packages/scipy/spatial/distance.py:685: RuntimeWarning: invalid value encountered in scalar divide\n",
      "  dist = 1.0 - uv / math.sqrt(uu * vv)\n"
     ]
    },
    {
     "name": "stdout",
     "output_type": "stream",
     "text": [
      "{'user_score_reading_phoneme': 43, 'user_score_reading_skipping': 58, 'user_score_reading_insertion': 62}\n",
      "\n",
      "[(13, 'insertion ', 2), (14, 'insertion ', 2), (18, 'insertion ', 2), (25, 'insertion ', 2), (26, 'skipping ', 2), (27, 'skipping ', 2), (28, 'skipping ', 2), (41, 'skipping ', 2), (50, 'skipping ', 2), (76, 'accent ', 2)]\n",
      "\n",
      "[(26, 'skipping ', 2), (27, 'skipping ', 2), (28, 'skipping ', 2), (41, 'skipping ', 2), (50, 'skipping ', 2), (76, 'accent ', 2), (81, 'accent ', 2), (87, 'accent ', 2), (90, 'accent ', 2), (92, 'accent ', 2)]\n",
      "\n",
      "[(13, 'insertion ', 2), (14, 'insertion ', 2), (18, 'insertion ', 2), (25, 'insertion ', 2), (26, 'skipping ', 2), (27, 'skipping ', 2), (28, 'skipping ', 2), (41, 'skipping ', 2), (50, 'skipping ', 2), (76, 'accent ', 2)]\n",
      "\n",
      "[(13, 'insertion ', 2), (14, 'insertion ', 2), (18, 'insertion ', 2), (25, 'insertion ', 2), (26, 'skipping ', 2), (27, 'skipping ', 2), (28, 'skipping ', 2), (41, 'skipping ', 2), (50, 'skipping ', 2), (76, 'accent ', 2)]\n",
      "\n",
      "[(13, 'insertion ', 2), (14, 'insertion ', 2), (18, 'insertion ', 2), (25, 'insertion ', 2), (26, 'skipping ', 2), (27, 'skipping ', 2), (28, 'skipping ', 2), (41, 'skipping ', 2), (50, 'skipping ', 2), (6, 'insertion ', 3)]\n",
      "\n"
     ]
    },
    {
     "name": "stderr",
     "output_type": "stream",
     "text": [
      "/home/dr_drew/Projects/PRiRS/playground/server/server_env/lib/python3.12/site-packages/scipy/spatial/distance.py:685: RuntimeWarning: invalid value encountered in scalar divide\n",
      "  dist = 1.0 - uv / math.sqrt(uu * vv)\n"
     ]
    },
    {
     "name": "stdout",
     "output_type": "stream",
     "text": [
      "{'user_score_reading_phoneme': 44, 'user_score_reading_skipping': 59, 'user_score_reading_insertion': 63}\n",
      "\n",
      "[(14, 'insertion ', 2), (18, 'insertion ', 2), (25, 'insertion ', 2), (26, 'skipping ', 2), (27, 'skipping ', 2), (28, 'skipping ', 2), (41, 'skipping ', 2), (50, 'skipping ', 2), (76, 'accent ', 2), (81, 'accent ', 2)]\n",
      "\n",
      "[(26, 'skipping ', 2), (27, 'skipping ', 2), (28, 'skipping ', 2), (41, 'skipping ', 2), (50, 'skipping ', 2), (76, 'accent ', 2), (81, 'accent ', 2), (87, 'accent ', 2), (90, 'accent ', 2), (92, 'accent ', 2)]\n",
      "\n",
      "[(14, 'insertion ', 2), (18, 'insertion ', 2), (25, 'insertion ', 2), (26, 'skipping ', 2), (27, 'skipping ', 2), (28, 'skipping ', 2), (41, 'skipping ', 2), (50, 'skipping ', 2), (76, 'accent ', 2), (81, 'accent ', 2)]\n",
      "\n",
      "[(14, 'insertion ', 2), (18, 'insertion ', 2), (25, 'insertion ', 2), (26, 'skipping ', 2), (27, 'skipping ', 2), (28, 'skipping ', 2), (41, 'skipping ', 2), (50, 'skipping ', 2), (76, 'accent ', 2), (81, 'accent ', 2)]\n",
      "\n",
      "[(14, 'insertion ', 2), (18, 'insertion ', 2), (25, 'insertion ', 2), (26, 'skipping ', 2), (27, 'skipping ', 2), (28, 'skipping ', 2), (41, 'skipping ', 2), (50, 'skipping ', 2), (6, 'insertion ', 3), (7, 'insertion ', 3)]\n",
      "\n"
     ]
    },
    {
     "name": "stderr",
     "output_type": "stream",
     "text": [
      "/home/dr_drew/Projects/PRiRS/playground/server/server_env/lib/python3.12/site-packages/scipy/spatial/distance.py:685: RuntimeWarning: invalid value encountered in scalar divide\n",
      "  dist = 1.0 - uv / math.sqrt(uu * vv)\n"
     ]
    },
    {
     "name": "stdout",
     "output_type": "stream",
     "text": [
      "{'user_score_reading_phoneme': 45, 'user_score_reading_skipping': 60, 'user_score_reading_insertion': 64}\n",
      "\n",
      "[(18, 'insertion ', 2), (25, 'insertion ', 2), (26, 'skipping ', 2), (27, 'skipping ', 2), (28, 'skipping ', 2), (41, 'skipping ', 2), (50, 'skipping ', 2), (76, 'accent ', 2), (81, 'accent ', 2), (87, 'accent ', 2)]\n",
      "\n",
      "[(26, 'skipping ', 2), (27, 'skipping ', 2), (28, 'skipping ', 2), (41, 'skipping ', 2), (50, 'skipping ', 2), (76, 'accent ', 2), (81, 'accent ', 2), (87, 'accent ', 2), (90, 'accent ', 2), (92, 'accent ', 2)]\n",
      "\n",
      "[(18, 'insertion ', 2), (25, 'insertion ', 2), (26, 'skipping ', 2), (27, 'skipping ', 2), (28, 'skipping ', 2), (41, 'skipping ', 2), (50, 'skipping ', 2), (76, 'accent ', 2), (81, 'accent ', 2), (87, 'accent ', 2)]\n",
      "\n",
      "[(18, 'insertion ', 2), (25, 'insertion ', 2), (26, 'skipping ', 2), (27, 'skipping ', 2), (28, 'skipping ', 2), (41, 'skipping ', 2), (50, 'skipping ', 2), (76, 'accent ', 2), (81, 'accent ', 2), (87, 'accent ', 2)]\n",
      "\n",
      "[(18, 'insertion ', 2), (25, 'insertion ', 2), (26, 'skipping ', 2), (27, 'skipping ', 2), (28, 'skipping ', 2), (41, 'skipping ', 2), (50, 'skipping ', 2), (6, 'insertion ', 3), (7, 'insertion ', 3), (8, 'insertion ', 3)]\n",
      "\n"
     ]
    },
    {
     "name": "stderr",
     "output_type": "stream",
     "text": [
      "/home/dr_drew/Projects/PRiRS/playground/server/server_env/lib/python3.12/site-packages/scipy/spatial/distance.py:685: RuntimeWarning: invalid value encountered in scalar divide\n",
      "  dist = 1.0 - uv / math.sqrt(uu * vv)\n"
     ]
    },
    {
     "name": "stdout",
     "output_type": "stream",
     "text": [
      "{'user_score_reading_phoneme': 46, 'user_score_reading_skipping': 61, 'user_score_reading_insertion': 65}\n",
      "\n",
      "[(25, 'insertion ', 2), (26, 'skipping ', 2), (27, 'skipping ', 2), (28, 'skipping ', 2), (41, 'skipping ', 2), (50, 'skipping ', 2), (76, 'accent ', 2), (81, 'accent ', 2), (87, 'accent ', 2), (90, 'accent ', 2)]\n",
      "\n",
      "[(26, 'skipping ', 2), (27, 'skipping ', 2), (28, 'skipping ', 2), (41, 'skipping ', 2), (50, 'skipping ', 2), (76, 'accent ', 2), (81, 'accent ', 2), (87, 'accent ', 2), (90, 'accent ', 2), (92, 'accent ', 2)]\n",
      "\n",
      "[(25, 'insertion ', 2), (26, 'skipping ', 2), (27, 'skipping ', 2), (28, 'skipping ', 2), (41, 'skipping ', 2), (50, 'skipping ', 2), (76, 'accent ', 2), (81, 'accent ', 2), (87, 'accent ', 2), (90, 'accent ', 2)]\n",
      "\n",
      "[(25, 'insertion ', 2), (26, 'skipping ', 2), (27, 'skipping ', 2), (28, 'skipping ', 2), (41, 'skipping ', 2), (50, 'skipping ', 2), (76, 'accent ', 2), (81, 'accent ', 2), (87, 'accent ', 2), (90, 'accent ', 2)]\n",
      "\n",
      "[(25, 'insertion ', 2), (26, 'skipping ', 2), (27, 'skipping ', 2), (28, 'skipping ', 2), (41, 'skipping ', 2), (50, 'skipping ', 2), (6, 'insertion ', 3), (7, 'insertion ', 3), (8, 'insertion ', 3), (9, 'insertion ', 3)]\n",
      "\n"
     ]
    },
    {
     "name": "stderr",
     "output_type": "stream",
     "text": [
      "/home/dr_drew/Projects/PRiRS/playground/server/server_env/lib/python3.12/site-packages/scipy/spatial/distance.py:685: RuntimeWarning: invalid value encountered in scalar divide\n",
      "  dist = 1.0 - uv / math.sqrt(uu * vv)\n"
     ]
    },
    {
     "name": "stdout",
     "output_type": "stream",
     "text": [
      "{'user_score_reading_phoneme': 42, 'user_score_reading_skipping': 62, 'user_score_reading_insertion': 66}\n",
      "\n",
      "[(26, 'skipping ', 2), (27, 'skipping ', 2), (28, 'skipping ', 2), (41, 'skipping ', 2), (50, 'skipping ', 2), (76, 'accent ', 2), (81, 'accent ', 2), (87, 'accent ', 2), (90, 'accent ', 2), (92, 'accent ', 2)]\n",
      "\n",
      "[(26, 'skipping ', 2), (27, 'skipping ', 2), (28, 'skipping ', 2), (41, 'skipping ', 2), (50, 'skipping ', 2), (76, 'accent ', 2), (81, 'accent ', 2), (87, 'accent ', 2), (90, 'accent ', 2), (92, 'accent ', 2)]\n",
      "\n",
      "[(26, 'skipping ', 2), (27, 'skipping ', 2), (28, 'skipping ', 2), (41, 'skipping ', 2), (50, 'skipping ', 2), (76, 'accent ', 2), (81, 'accent ', 2), (87, 'accent ', 2), (90, 'accent ', 2), (92, 'accent ', 2)]\n",
      "\n",
      "[(26, 'skipping ', 2), (27, 'skipping ', 2), (28, 'skipping ', 2), (41, 'skipping ', 2), (50, 'skipping ', 2), (76, 'accent ', 2), (81, 'accent ', 2), (87, 'accent ', 2), (90, 'accent ', 2), (92, 'accent ', 2)]\n",
      "\n",
      "[(26, 'skipping ', 2), (27, 'skipping ', 2), (28, 'skipping ', 2), (41, 'skipping ', 2), (50, 'skipping ', 2), (6, 'insertion ', 3), (7, 'insertion ', 3), (8, 'insertion ', 3), (9, 'insertion ', 3), (10, 'insertion ', 3)]\n",
      "\n"
     ]
    },
    {
     "name": "stderr",
     "output_type": "stream",
     "text": [
      "/home/dr_drew/Projects/PRiRS/playground/server/server_env/lib/python3.12/site-packages/scipy/spatial/distance.py:685: RuntimeWarning: invalid value encountered in scalar divide\n",
      "  dist = 1.0 - uv / math.sqrt(uu * vv)\n"
     ]
    },
    {
     "name": "stdout",
     "output_type": "stream",
     "text": [
      "{'user_score_reading_phoneme': 38, 'user_score_reading_skipping': 63, 'user_score_reading_insertion': 67}\n",
      "\n",
      "[(27, 'skipping ', 2), (28, 'skipping ', 2), (41, 'skipping ', 2), (50, 'skipping ', 2), (76, 'accent ', 2), (81, 'accent ', 2), (87, 'accent ', 2), (90, 'accent ', 2), (92, 'accent ', 2), (94, 'accent ', 2)]\n",
      "\n",
      "[(27, 'skipping ', 2), (28, 'skipping ', 2), (41, 'skipping ', 2), (50, 'skipping ', 2), (76, 'accent ', 2), (81, 'accent ', 2), (87, 'accent ', 2), (90, 'accent ', 2), (92, 'accent ', 2), (94, 'accent ', 2)]\n",
      "\n",
      "[(27, 'skipping ', 2), (28, 'skipping ', 2), (41, 'skipping ', 2), (50, 'skipping ', 2), (76, 'accent ', 2), (81, 'accent ', 2), (87, 'accent ', 2), (90, 'accent ', 2), (92, 'accent ', 2), (94, 'accent ', 2)]\n",
      "\n",
      "[(27, 'skipping ', 2), (28, 'skipping ', 2), (41, 'skipping ', 2), (50, 'skipping ', 2), (6, 'insertion ', 3), (7, 'insertion ', 3), (8, 'insertion ', 3), (9, 'insertion ', 3), (10, 'insertion ', 3), (11, 'insertion ', 3)]\n",
      "\n",
      "[(27, 'skipping ', 2), (28, 'skipping ', 2), (41, 'skipping ', 2), (50, 'skipping ', 2), (76, 'accent ', 2), (81, 'accent ', 2), (87, 'accent ', 2), (90, 'accent ', 2), (92, 'accent ', 2), (94, 'accent ', 2)]\n",
      "\n"
     ]
    },
    {
     "name": "stderr",
     "output_type": "stream",
     "text": [
      "/home/dr_drew/Projects/PRiRS/playground/server/server_env/lib/python3.12/site-packages/scipy/spatial/distance.py:685: RuntimeWarning: invalid value encountered in scalar divide\n",
      "  dist = 1.0 - uv / math.sqrt(uu * vv)\n"
     ]
    },
    {
     "name": "stdout",
     "output_type": "stream",
     "text": [
      "{'user_score_reading_phoneme': 39, 'user_score_reading_skipping': 64, 'user_score_reading_insertion': 68}\n",
      "\n",
      "[(28, 'skipping ', 2), (41, 'skipping ', 2), (50, 'skipping ', 2), (76, 'accent ', 2), (81, 'accent ', 2), (87, 'accent ', 2), (90, 'accent ', 2), (92, 'accent ', 2), (94, 'accent ', 2), (96, 'accent ', 2)]\n",
      "\n",
      "[(28, 'skipping ', 2), (41, 'skipping ', 2), (50, 'skipping ', 2), (76, 'accent ', 2), (81, 'accent ', 2), (87, 'accent ', 2), (90, 'accent ', 2), (92, 'accent ', 2), (94, 'accent ', 2), (96, 'accent ', 2)]\n",
      "\n",
      "[(28, 'skipping ', 2), (41, 'skipping ', 2), (50, 'skipping ', 2), (76, 'accent ', 2), (81, 'accent ', 2), (87, 'accent ', 2), (90, 'accent ', 2), (92, 'accent ', 2), (94, 'accent ', 2), (96, 'accent ', 2)]\n",
      "\n",
      "[(28, 'skipping ', 2), (41, 'skipping ', 2), (50, 'skipping ', 2), (76, 'accent ', 2), (81, 'accent ', 2), (87, 'accent ', 2), (90, 'accent ', 2), (92, 'accent ', 2), (94, 'accent ', 2), (96, 'accent ', 2)]\n",
      "\n",
      "[(28, 'skipping ', 2), (41, 'skipping ', 2), (50, 'skipping ', 2), (6, 'insertion ', 3), (7, 'insertion ', 3), (8, 'insertion ', 3), (9, 'insertion ', 3), (10, 'insertion ', 3), (11, 'insertion ', 3), (12, 'insertion ', 3)]\n"
     ]
    },
    {
     "name": "stderr",
     "output_type": "stream",
     "text": [
      "/home/dr_drew/Projects/PRiRS/playground/server/server_env/lib/python3.12/site-packages/scipy/spatial/distance.py:685: RuntimeWarning: invalid value encountered in scalar divide\n",
      "  dist = 1.0 - uv / math.sqrt(uu * vv)\n"
     ]
    },
    {
     "name": "stdout",
     "output_type": "stream",
     "text": [
      "\n",
      "{'user_score_reading_phoneme': 34, 'user_score_reading_skipping': 65, 'user_score_reading_insertion': 69}\n",
      "\n",
      "[(41, 'skipping ', 2), (50, 'skipping ', 2), (76, 'accent ', 2), (81, 'accent ', 2), (87, 'accent ', 2), (90, 'accent ', 2), (92, 'accent ', 2), (94, 'accent ', 2), (96, 'accent ', 2), (99, 'accent ', 2)]\n",
      "\n",
      "[(41, 'skipping ', 2), (50, 'skipping ', 2), (76, 'accent ', 2), (81, 'accent ', 2), (87, 'accent ', 2), (90, 'accent ', 2), (92, 'accent ', 2), (94, 'accent ', 2), (96, 'accent ', 2), (99, 'accent ', 2)]\n"
     ]
    },
    {
     "name": "stderr",
     "output_type": "stream",
     "text": [
      "/home/dr_drew/Projects/PRiRS/playground/server/server_env/lib/python3.12/site-packages/scipy/spatial/distance.py:685: RuntimeWarning: invalid value encountered in scalar divide\n",
      "  dist = 1.0 - uv / math.sqrt(uu * vv)\n"
     ]
    },
    {
     "name": "stdout",
     "output_type": "stream",
     "text": [
      "\n",
      "[(41, 'skipping ', 2), (50, 'skipping ', 2), (76, 'accent ', 2), (81, 'accent ', 2), (87, 'accent ', 2), (90, 'accent ', 2), (92, 'accent ', 2), (94, 'accent ', 2), (96, 'accent ', 2), (99, 'accent ', 2)]\n",
      "\n",
      "[(76, 'accent ', 2), (81, 'accent ', 2), (87, 'accent ', 2), (90, 'accent ', 2), (92, 'accent ', 2), (94, 'accent ', 2), (96, 'accent ', 2), (99, 'accent ', 2), (100, 'accent ', 2), (41, 'skipping ', 2)]\n",
      "\n",
      "[(41, 'skipping ', 2), (50, 'skipping ', 2), (6, 'insertion ', 3), (7, 'insertion ', 3), (8, 'insertion ', 3), (9, 'insertion ', 3), (10, 'insertion ', 3), (11, 'insertion ', 3), (12, 'insertion ', 3), (16, 'insertion ', 3)]\n",
      "\n",
      "{'user_score_reading_phoneme': 35, 'user_score_reading_skipping': 66, 'user_score_reading_insertion': 70}\n",
      "\n",
      "[(41, 'skipping ', 2), (50, 'skipping ', 2), (81, 'accent ', 2), (87, 'accent ', 2), (90, 'accent ', 2), (92, 'accent ', 2), (94, 'accent ', 2), (96, 'accent ', 2), (99, 'accent ', 2), (100, 'accent ', 2)]\n"
     ]
    },
    {
     "name": "stderr",
     "output_type": "stream",
     "text": [
      "/home/dr_drew/Projects/PRiRS/playground/server/server_env/lib/python3.12/site-packages/scipy/spatial/distance.py:685: RuntimeWarning: invalid value encountered in scalar divide\n",
      "  dist = 1.0 - uv / math.sqrt(uu * vv)\n"
     ]
    },
    {
     "name": "stdout",
     "output_type": "stream",
     "text": [
      "\n",
      "[(41, 'skipping ', 2), (50, 'skipping ', 2), (81, 'accent ', 2), (87, 'accent ', 2), (90, 'accent ', 2), (92, 'accent ', 2), (94, 'accent ', 2), (96, 'accent ', 2), (99, 'accent ', 2), (100, 'accent ', 2)]\n",
      "\n",
      "[(41, 'skipping ', 2), (50, 'skipping ', 2), (81, 'accent ', 2), (87, 'accent ', 2), (90, 'accent ', 2), (92, 'accent ', 2), (94, 'accent ', 2), (96, 'accent ', 2), (99, 'accent ', 2), (100, 'accent ', 2)]\n",
      "\n",
      "[(41, 'skipping ', 2), (50, 'skipping ', 2), (6, 'insertion ', 3), (7, 'insertion ', 3), (8, 'insertion ', 3), (9, 'insertion ', 3), (10, 'insertion ', 3), (11, 'insertion ', 3), (12, 'insertion ', 3), (16, 'insertion ', 3)]\n",
      "\n",
      "[(41, 'skipping ', 2), (50, 'skipping ', 2), (81, 'accent ', 2), (87, 'accent ', 2), (90, 'accent ', 2), (92, 'accent ', 2), (94, 'accent ', 2), (96, 'accent ', 2), (99, 'accent ', 2), (100, 'accent ', 2)]\n",
      "\n",
      "{'user_score_reading_phoneme': 36, 'user_score_reading_skipping': 67, 'user_score_reading_insertion': 71}\n",
      "\n",
      "[(50, 'skipping ', 2), (81, 'accent ', 2), (87, 'accent ', 2), (90, 'accent ', 2), (92, 'accent ', 2), (94, 'accent ', 2), (96, 'accent ', 2), (99, 'accent ', 2), (100, 'accent ', 2), (6, 'insertion ', 3)]\n",
      "\n",
      "[(50, 'skipping ', 2), (81, 'accent ', 2), (87, 'accent ', 2), (90, 'accent ', 2), (92, 'accent ', 2), (94, 'accent ', 2), (96, 'accent ', 2), (99, 'accent ', 2), (100, 'accent ', 2), (6, 'insertion ', 3)]\n",
      "\n",
      "[(50, 'skipping ', 2), (81, 'accent ', 2), (87, 'accent ', 2), (90, 'accent ', 2), (92, 'accent ', 2), (94, 'accent ', 2), (96, 'accent ', 2), (99, 'accent ', 2), (100, 'accent ', 2), (29, 'skipping ', 3)]\n",
      "\n",
      "[(50, 'skipping ', 2), (81, 'accent ', 2), (87, 'accent ', 2), (90, 'accent ', 2), (92, 'accent ', 2), (94, 'accent ', 2), (96, 'accent ', 2), (99, 'accent ', 2), (100, 'accent ', 2), (53, 'phoneme ', 3)]\n",
      "\n",
      "[(50, 'skipping ', 2), (6, 'insertion ', 3), (7, 'insertion ', 3), (8, 'insertion ', 3), (9, 'insertion ', 3), (10, 'insertion ', 3), (11, 'insertion ', 3), (12, 'insertion ', 3), (16, 'insertion ', 3), (17, 'insertion ', 3)]\n",
      "\n"
     ]
    },
    {
     "name": "stderr",
     "output_type": "stream",
     "text": [
      "/home/dr_drew/Projects/PRiRS/playground/server/server_env/lib/python3.12/site-packages/scipy/spatial/distance.py:685: RuntimeWarning: invalid value encountered in scalar divide\n",
      "  dist = 1.0 - uv / math.sqrt(uu * vv)\n"
     ]
    },
    {
     "name": "stdout",
     "output_type": "stream",
     "text": [
      "{'user_score_reading_phoneme': 32, 'user_score_reading_skipping': 68, 'user_score_reading_insertion': 72}\n",
      "\n",
      "[(81, 'accent ', 2), (87, 'accent ', 2), (90, 'accent ', 2), (92, 'accent ', 2), (94, 'accent ', 2), (96, 'accent ', 2), (99, 'accent ', 2), (100, 'accent ', 2), (29, 'skipping ', 3), (30, 'skipping ', 3)]\n",
      "\n",
      "[(6, 'insertion ', 3), (7, 'insertion ', 3), (8, 'insertion ', 3), (9, 'insertion ', 3), (10, 'insertion ', 3), (11, 'insertion ', 3), (12, 'insertion ', 3), (16, 'insertion ', 3), (17, 'insertion ', 3), (20, 'insertion ', 3)]\n",
      "\n",
      "[(81, 'accent ', 2), (87, 'accent ', 2), (90, 'accent ', 2), (92, 'accent ', 2), (94, 'accent ', 2), (96, 'accent ', 2), (99, 'accent ', 2), (100, 'accent ', 2), (29, 'skipping ', 3), (30, 'skipping ', 3)]\n",
      "\n",
      "[(81, 'accent ', 2), (87, 'accent ', 2), (90, 'accent ', 2), (92, 'accent ', 2), (94, 'accent ', 2), (96, 'accent ', 2), (99, 'accent ', 2), (100, 'accent ', 2), (6, 'insertion ', 3), (7, 'insertion ', 3)]\n",
      "\n",
      "[(81, 'accent ', 2), (87, 'accent ', 2), (90, 'accent ', 2), (92, 'accent ', 2), (94, 'accent ', 2), (96, 'accent ', 2), (99, 'accent ', 2), (100, 'accent ', 2), (53, 'phoneme ', 3), (55, 'phoneme ', 3)]\n",
      "\n"
     ]
    },
    {
     "name": "stderr",
     "output_type": "stream",
     "text": [
      "/home/dr_drew/Projects/PRiRS/playground/server/server_env/lib/python3.12/site-packages/scipy/spatial/distance.py:685: RuntimeWarning: invalid value encountered in scalar divide\n",
      "  dist = 1.0 - uv / math.sqrt(uu * vv)\n"
     ]
    },
    {
     "name": "stdout",
     "output_type": "stream",
     "text": [
      "{'user_score_reading_phoneme': 33, 'user_score_reading_skipping': 69, 'user_score_reading_insertion': 73}\n",
      "\n",
      "[(87, 'accent ', 2), (90, 'accent ', 2), (92, 'accent ', 2), (94, 'accent ', 2), (96, 'accent ', 2), (99, 'accent ', 2), (100, 'accent ', 2), (6, 'insertion ', 3), (7, 'insertion ', 3), (8, 'insertion ', 3)]\n",
      "\n",
      "[(87, 'accent ', 2), (90, 'accent ', 2), (92, 'accent ', 2), (94, 'accent ', 2), (96, 'accent ', 2), (99, 'accent ', 2), (100, 'accent ', 2), (29, 'skipping ', 3), (30, 'skipping ', 3), (31, 'skipping ', 3)]\n",
      "\n",
      "[(87, 'accent ', 2), (90, 'accent ', 2), (92, 'accent ', 2), (94, 'accent ', 2), (96, 'accent ', 2), (99, 'accent ', 2), (100, 'accent ', 2), (53, 'phoneme ', 3), (55, 'phoneme ', 3), (59, 'phoneme ', 3)]\n",
      "\n",
      "[(6, 'insertion ', 3), (7, 'insertion ', 3), (8, 'insertion ', 3), (9, 'insertion ', 3), (10, 'insertion ', 3), (11, 'insertion ', 3), (12, 'insertion ', 3), (16, 'insertion ', 3), (17, 'insertion ', 3), (20, 'insertion ', 3)]\n",
      "\n",
      "[(87, 'accent ', 2), (90, 'accent ', 2), (92, 'accent ', 2), (94, 'accent ', 2), (96, 'accent ', 2), (99, 'accent ', 2), (100, 'accent ', 2), (29, 'skipping ', 3), (30, 'skipping ', 3), (31, 'skipping ', 3)]\n",
      "\n"
     ]
    },
    {
     "name": "stderr",
     "output_type": "stream",
     "text": [
      "/home/dr_drew/Projects/PRiRS/playground/server/server_env/lib/python3.12/site-packages/scipy/spatial/distance.py:685: RuntimeWarning: invalid value encountered in scalar divide\n",
      "  dist = 1.0 - uv / math.sqrt(uu * vv)\n"
     ]
    },
    {
     "name": "stdout",
     "output_type": "stream",
     "text": [
      "{'user_score_reading_phoneme': 29, 'user_score_reading_skipping': 70, 'user_score_reading_insertion': 74}\n",
      "\n",
      "[(90, 'accent ', 2), (92, 'accent ', 2), (94, 'accent ', 2), (96, 'accent ', 2), (99, 'accent ', 2), (100, 'accent ', 2), (6, 'insertion ', 3), (7, 'insertion ', 3), (8, 'insertion ', 3), (9, 'insertion ', 3)]\n",
      "\n",
      "[(90, 'accent ', 2), (92, 'accent ', 2), (94, 'accent ', 2), (96, 'accent ', 2), (99, 'accent ', 2), (100, 'accent ', 2), (29, 'skipping ', 3), (30, 'skipping ', 3), (31, 'skipping ', 3), (32, 'skipping ', 3)]\n",
      "\n",
      "[(90, 'accent ', 2), (92, 'accent ', 2), (94, 'accent ', 2), (96, 'accent ', 2), (99, 'accent ', 2), (100, 'accent ', 2), (29, 'skipping ', 3), (30, 'skipping ', 3), (31, 'skipping ', 3), (32, 'skipping ', 3)]\n",
      "\n",
      "[(90, 'accent ', 2), (92, 'accent ', 2), (94, 'accent ', 2), (96, 'accent ', 2), (99, 'accent ', 2), (100, 'accent ', 2), (53, 'phoneme ', 3), (55, 'phoneme ', 3), (59, 'phoneme ', 3), (60, 'phoneme ', 3)]\n",
      "\n",
      "[(6, 'insertion ', 3), (7, 'insertion ', 3), (8, 'insertion ', 3), (9, 'insertion ', 3), (10, 'insertion ', 3), (11, 'insertion ', 3), (12, 'insertion ', 3), (16, 'insertion ', 3), (17, 'insertion ', 3), (20, 'insertion ', 3)]\n",
      "\n"
     ]
    },
    {
     "name": "stderr",
     "output_type": "stream",
     "text": [
      "/home/dr_drew/Projects/PRiRS/playground/server/server_env/lib/python3.12/site-packages/scipy/spatial/distance.py:685: RuntimeWarning: invalid value encountered in scalar divide\n",
      "  dist = 1.0 - uv / math.sqrt(uu * vv)\n"
     ]
    },
    {
     "name": "stdout",
     "output_type": "stream",
     "text": [
      "{'user_score_reading_phoneme': 30, 'user_score_reading_skipping': 71, 'user_score_reading_insertion': 75}\n",
      "\n",
      "[(92, 'accent ', 2), (94, 'accent ', 2), (96, 'accent ', 2), (99, 'accent ', 2), (100, 'accent ', 2), (6, 'insertion ', 3), (7, 'insertion ', 3), (8, 'insertion ', 3), (9, 'insertion ', 3), (10, 'insertion ', 3)]\n",
      "\n",
      "[(92, 'accent ', 2), (94, 'accent ', 2), (96, 'accent ', 2), (99, 'accent ', 2), (100, 'accent ', 2), (29, 'skipping ', 3), (30, 'skipping ', 3), (31, 'skipping ', 3), (32, 'skipping ', 3), (33, 'skipping ', 3)]\n",
      "\n",
      "[(92, 'accent ', 2), (94, 'accent ', 2), (96, 'accent ', 2), (99, 'accent ', 2), (100, 'accent ', 2), (29, 'skipping ', 3), (30, 'skipping ', 3), (31, 'skipping ', 3), (32, 'skipping ', 3), (33, 'skipping ', 3)]\n",
      "\n",
      "[(92, 'accent ', 2), (94, 'accent ', 2), (96, 'accent ', 2), (99, 'accent ', 2), (100, 'accent ', 2), (53, 'phoneme ', 3), (55, 'phoneme ', 3), (59, 'phoneme ', 3), (60, 'phoneme ', 3), (61, 'phoneme ', 3)]\n",
      "\n",
      "[(6, 'insertion ', 3), (7, 'insertion ', 3), (8, 'insertion ', 3), (9, 'insertion ', 3), (10, 'insertion ', 3), (11, 'insertion ', 3), (12, 'insertion ', 3), (16, 'insertion ', 3), (17, 'insertion ', 3), (20, 'insertion ', 3)]\n",
      "\n"
     ]
    },
    {
     "name": "stderr",
     "output_type": "stream",
     "text": [
      "/home/dr_drew/Projects/PRiRS/playground/server/server_env/lib/python3.12/site-packages/scipy/spatial/distance.py:685: RuntimeWarning: invalid value encountered in scalar divide\n",
      "  dist = 1.0 - uv / math.sqrt(uu * vv)\n"
     ]
    },
    {
     "name": "stdout",
     "output_type": "stream",
     "text": [
      "{'user_score_reading_phoneme': 31, 'user_score_reading_skipping': 72, 'user_score_reading_insertion': 76}\n",
      "\n",
      "[(94, 'accent ', 2), (96, 'accent ', 2), (99, 'accent ', 2), (100, 'accent ', 2), (6, 'insertion ', 3), (7, 'insertion ', 3), (8, 'insertion ', 3), (9, 'insertion ', 3), (10, 'insertion ', 3), (11, 'insertion ', 3)]\n",
      "\n",
      "[(94, 'accent ', 2), (96, 'accent ', 2), (99, 'accent ', 2), (100, 'accent ', 2), (29, 'skipping ', 3), (30, 'skipping ', 3), (31, 'skipping ', 3), (32, 'skipping ', 3), (33, 'skipping ', 3), (34, 'skipping ', 3)]\n",
      "\n",
      "[(94, 'accent ', 2), (96, 'accent ', 2), (99, 'accent ', 2), (100, 'accent ', 2), (29, 'skipping ', 3), (30, 'skipping ', 3), (31, 'skipping ', 3), (32, 'skipping ', 3), (33, 'skipping ', 3), (34, 'skipping ', 3)]\n",
      "\n",
      "[(94, 'accent ', 2), (96, 'accent ', 2), (99, 'accent ', 2), (100, 'accent ', 2), (53, 'phoneme ', 3), (55, 'phoneme ', 3), (59, 'phoneme ', 3), (60, 'phoneme ', 3), (61, 'phoneme ', 3), (62, 'phoneme ', 3)]\n",
      "\n",
      "[(6, 'insertion ', 3), (7, 'insertion ', 3), (8, 'insertion ', 3), (9, 'insertion ', 3), (10, 'insertion ', 3), (11, 'insertion ', 3), (12, 'insertion ', 3), (16, 'insertion ', 3), (17, 'insertion ', 3), (20, 'insertion ', 3)]\n",
      "\n"
     ]
    },
    {
     "name": "stderr",
     "output_type": "stream",
     "text": [
      "/home/dr_drew/Projects/PRiRS/playground/server/server_env/lib/python3.12/site-packages/scipy/spatial/distance.py:685: RuntimeWarning: invalid value encountered in scalar divide\n",
      "  dist = 1.0 - uv / math.sqrt(uu * vv)\n"
     ]
    },
    {
     "name": "stdout",
     "output_type": "stream",
     "text": [
      "{'user_score_reading_phoneme': 32, 'user_score_reading_skipping': 73, 'user_score_reading_insertion': 77}\n",
      "\n",
      "[(96, 'accent ', 2), (99, 'accent ', 2), (100, 'accent ', 2), (6, 'insertion ', 3), (7, 'insertion ', 3), (8, 'insertion ', 3), (9, 'insertion ', 3), (10, 'insertion ', 3), (11, 'insertion ', 3), (12, 'insertion ', 3)]\n",
      "\n",
      "[(96, 'accent ', 2), (99, 'accent ', 2), (100, 'accent ', 2), (29, 'skipping ', 3), (30, 'skipping ', 3), (31, 'skipping ', 3), (32, 'skipping ', 3), (33, 'skipping ', 3), (34, 'skipping ', 3), (35, 'skipping ', 3)]\n",
      "\n",
      "[(96, 'accent ', 2), (99, 'accent ', 2), (100, 'accent ', 2), (29, 'skipping ', 3), (30, 'skipping ', 3), (31, 'skipping ', 3), (32, 'skipping ', 3), (33, 'skipping ', 3), (34, 'skipping ', 3), (35, 'skipping ', 3)]\n",
      "\n",
      "[(96, 'accent ', 2), (99, 'accent ', 2), (100, 'accent ', 2), (53, 'phoneme ', 3), (55, 'phoneme ', 3), (59, 'phoneme ', 3), (60, 'phoneme ', 3), (61, 'phoneme ', 3), (62, 'phoneme ', 3), (63, 'phoneme ', 3)]\n",
      "\n",
      "[(6, 'insertion ', 3), (7, 'insertion ', 3), (8, 'insertion ', 3), (9, 'insertion ', 3), (10, 'insertion ', 3), (11, 'insertion ', 3), (12, 'insertion ', 3), (16, 'insertion ', 3), (17, 'insertion ', 3), (20, 'insertion ', 3)]\n",
      "\n"
     ]
    },
    {
     "name": "stderr",
     "output_type": "stream",
     "text": [
      "/home/dr_drew/Projects/PRiRS/playground/server/server_env/lib/python3.12/site-packages/scipy/spatial/distance.py:685: RuntimeWarning: invalid value encountered in scalar divide\n",
      "  dist = 1.0 - uv / math.sqrt(uu * vv)\n"
     ]
    },
    {
     "name": "stdout",
     "output_type": "stream",
     "text": [
      "{'user_score_reading_phoneme': 33, 'user_score_reading_skipping': 74, 'user_score_reading_insertion': 78}\n",
      "\n",
      "[(99, 'accent ', 2), (100, 'accent ', 2), (6, 'insertion ', 3), (7, 'insertion ', 3), (8, 'insertion ', 3), (9, 'insertion ', 3), (10, 'insertion ', 3), (11, 'insertion ', 3), (12, 'insertion ', 3), (16, 'insertion ', 3)]\n",
      "\n",
      "[(99, 'accent ', 2), (100, 'accent ', 2), (29, 'skipping ', 3), (30, 'skipping ', 3), (31, 'skipping ', 3), (32, 'skipping ', 3), (33, 'skipping ', 3), (34, 'skipping ', 3), (35, 'skipping ', 3), (37, 'skipping ', 3)]\n",
      "\n",
      "[(99, 'accent ', 2), (100, 'accent ', 2), (29, 'skipping ', 3), (30, 'skipping ', 3), (31, 'skipping ', 3), (32, 'skipping ', 3), (33, 'skipping ', 3), (34, 'skipping ', 3), (35, 'skipping ', 3), (37, 'skipping ', 3)]\n",
      "\n",
      "[(99, 'accent ', 2), (100, 'accent ', 2), (53, 'phoneme ', 3), (55, 'phoneme ', 3), (59, 'phoneme ', 3), (60, 'phoneme ', 3), (61, 'phoneme ', 3), (62, 'phoneme ', 3), (63, 'phoneme ', 3), (65, 'phoneme ', 3)]\n",
      "\n",
      "[(6, 'insertion ', 3), (7, 'insertion ', 3), (8, 'insertion ', 3), (9, 'insertion ', 3), (10, 'insertion ', 3), (11, 'insertion ', 3), (12, 'insertion ', 3), (16, 'insertion ', 3), (17, 'insertion ', 3), (20, 'insertion ', 3)]\n",
      "\n"
     ]
    },
    {
     "name": "stderr",
     "output_type": "stream",
     "text": [
      "/home/dr_drew/Projects/PRiRS/playground/server/server_env/lib/python3.12/site-packages/scipy/spatial/distance.py:685: RuntimeWarning: invalid value encountered in scalar divide\n",
      "  dist = 1.0 - uv / math.sqrt(uu * vv)\n"
     ]
    },
    {
     "name": "stdout",
     "output_type": "stream",
     "text": [
      "{'user_score_reading_phoneme': 34, 'user_score_reading_skipping': 75, 'user_score_reading_insertion': 79}\n",
      "\n",
      "[(100, 'accent ', 2), (6, 'insertion ', 3), (7, 'insertion ', 3), (8, 'insertion ', 3), (9, 'insertion ', 3), (10, 'insertion ', 3), (11, 'insertion ', 3), (12, 'insertion ', 3), (16, 'insertion ', 3), (17, 'insertion ', 3)]\n",
      "\n",
      "[(100, 'accent ', 2), (29, 'skipping ', 3), (30, 'skipping ', 3), (31, 'skipping ', 3), (32, 'skipping ', 3), (33, 'skipping ', 3), (34, 'skipping ', 3), (35, 'skipping ', 3), (37, 'skipping ', 3), (40, 'skipping ', 3)]\n",
      "\n",
      "[(100, 'accent ', 2), (29, 'skipping ', 3), (30, 'skipping ', 3), (31, 'skipping ', 3), (32, 'skipping ', 3), (33, 'skipping ', 3), (34, 'skipping ', 3), (35, 'skipping ', 3), (37, 'skipping ', 3), (40, 'skipping ', 3)]\n",
      "\n",
      "[(100, 'accent ', 2), (53, 'phoneme ', 3), (55, 'phoneme ', 3), (59, 'phoneme ', 3), (60, 'phoneme ', 3), (61, 'phoneme ', 3), (62, 'phoneme ', 3), (63, 'phoneme ', 3), (65, 'phoneme ', 3), (68, 'phoneme ', 3)]\n",
      "\n",
      "[(6, 'insertion ', 3), (7, 'insertion ', 3), (8, 'insertion ', 3), (9, 'insertion ', 3), (10, 'insertion ', 3), (11, 'insertion ', 3), (12, 'insertion ', 3), (16, 'insertion ', 3), (17, 'insertion ', 3), (20, 'insertion ', 3)]\n",
      "\n"
     ]
    },
    {
     "name": "stderr",
     "output_type": "stream",
     "text": [
      "/home/dr_drew/Projects/PRiRS/playground/server/server_env/lib/python3.12/site-packages/scipy/spatial/distance.py:685: RuntimeWarning: invalid value encountered in scalar divide\n",
      "  dist = 1.0 - uv / math.sqrt(uu * vv)\n"
     ]
    },
    {
     "name": "stdout",
     "output_type": "stream",
     "text": [
      "{'user_score_reading_phoneme': 35, 'user_score_reading_skipping': 76, 'user_score_reading_insertion': 80}\n",
      "\n",
      "[(6, 'insertion ', 3), (7, 'insertion ', 3), (8, 'insertion ', 3), (9, 'insertion ', 3), (10, 'insertion ', 3), (11, 'insertion ', 3), (12, 'insertion ', 3), (16, 'insertion ', 3), (17, 'insertion ', 3), (20, 'insertion ', 3)]\n",
      "\n",
      "[(29, 'skipping ', 3), (30, 'skipping ', 3), (31, 'skipping ', 3), (32, 'skipping ', 3), (33, 'skipping ', 3), (34, 'skipping ', 3), (35, 'skipping ', 3), (37, 'skipping ', 3), (40, 'skipping ', 3), (42, 'skipping ', 3)]\n",
      "\n",
      "[(29, 'skipping ', 3), (30, 'skipping ', 3), (31, 'skipping ', 3), (32, 'skipping ', 3), (33, 'skipping ', 3), (34, 'skipping ', 3), (35, 'skipping ', 3), (37, 'skipping ', 3), (40, 'skipping ', 3), (42, 'skipping ', 3)]\n",
      "\n",
      "[(53, 'phoneme ', 3), (55, 'phoneme ', 3), (59, 'phoneme ', 3), (60, 'phoneme ', 3), (61, 'phoneme ', 3), (62, 'phoneme ', 3), (63, 'phoneme ', 3), (65, 'phoneme ', 3), (68, 'phoneme ', 3), (69, 'phoneme ', 3)]\n",
      "\n",
      "[(6, 'insertion ', 3), (7, 'insertion ', 3), (8, 'insertion ', 3), (9, 'insertion ', 3), (10, 'insertion ', 3), (11, 'insertion ', 3), (12, 'insertion ', 3), (16, 'insertion ', 3), (17, 'insertion ', 3), (20, 'insertion ', 3)]\n",
      "\n"
     ]
    },
    {
     "name": "stderr",
     "output_type": "stream",
     "text": [
      "/home/dr_drew/Projects/PRiRS/playground/server/server_env/lib/python3.12/site-packages/scipy/spatial/distance.py:685: RuntimeWarning: invalid value encountered in scalar divide\n",
      "  dist = 1.0 - uv / math.sqrt(uu * vv)\n"
     ]
    },
    {
     "name": "stdout",
     "output_type": "stream",
     "text": [
      "{'user_score_reading_phoneme': 36, 'user_score_reading_skipping': 77, 'user_score_reading_insertion': 81}\n",
      "\n",
      "[(6, 'insertion ', 3), (7, 'insertion ', 3), (8, 'insertion ', 3), (9, 'insertion ', 3), (10, 'insertion ', 3), (11, 'insertion ', 3), (12, 'insertion ', 3), (16, 'insertion ', 3), (17, 'insertion ', 3), (20, 'insertion ', 3)]\n",
      "\n",
      "[(29, 'skipping ', 3), (30, 'skipping ', 3), (31, 'skipping ', 3), (32, 'skipping ', 3), (33, 'skipping ', 3), (34, 'skipping ', 3), (35, 'skipping ', 3), (37, 'skipping ', 3), (40, 'skipping ', 3), (42, 'skipping ', 3)]\n",
      "\n",
      "[(29, 'skipping ', 3), (30, 'skipping ', 3), (31, 'skipping ', 3), (32, 'skipping ', 3), (33, 'skipping ', 3), (34, 'skipping ', 3), (35, 'skipping ', 3), (37, 'skipping ', 3), (40, 'skipping ', 3), (42, 'skipping ', 3)]\n",
      "\n",
      "[(55, 'phoneme ', 3), (59, 'phoneme ', 3), (60, 'phoneme ', 3), (61, 'phoneme ', 3), (62, 'phoneme ', 3), (63, 'phoneme ', 3), (65, 'phoneme ', 3), (68, 'phoneme ', 3), (69, 'phoneme ', 3), (72, 'phoneme ', 3)]\n",
      "\n",
      "[(6, 'insertion ', 3), (7, 'insertion ', 3), (8, 'insertion ', 3), (9, 'insertion ', 3), (10, 'insertion ', 3), (11, 'insertion ', 3), (12, 'insertion ', 3), (16, 'insertion ', 3), (17, 'insertion ', 3), (20, 'insertion ', 3)]\n",
      "\n"
     ]
    },
    {
     "name": "stderr",
     "output_type": "stream",
     "text": [
      "/home/dr_drew/Projects/PRiRS/playground/server/server_env/lib/python3.12/site-packages/scipy/spatial/distance.py:685: RuntimeWarning: invalid value encountered in scalar divide\n",
      "  dist = 1.0 - uv / math.sqrt(uu * vv)\n"
     ]
    },
    {
     "name": "stdout",
     "output_type": "stream",
     "text": [
      "{'user_score_reading_phoneme': 32, 'user_score_reading_skipping': 78, 'user_score_reading_insertion': 82}\n",
      "\n",
      "[(59, 'phoneme ', 3), (60, 'phoneme ', 3), (61, 'phoneme ', 3), (62, 'phoneme ', 3), (63, 'phoneme ', 3), (65, 'phoneme ', 3), (68, 'phoneme ', 3), (69, 'phoneme ', 3), (72, 'phoneme ', 3), (74, 'phoneme ', 3)]\n",
      "\n",
      "[(6, 'insertion ', 3), (7, 'insertion ', 3), (8, 'insertion ', 3), (9, 'insertion ', 3), (10, 'insertion ', 3), (11, 'insertion ', 3), (12, 'insertion ', 3), (16, 'insertion ', 3), (17, 'insertion ', 3), (20, 'insertion ', 3)]\n",
      "\n",
      "[(6, 'insertion ', 3), (7, 'insertion ', 3), (8, 'insertion ', 3), (9, 'insertion ', 3), (10, 'insertion ', 3), (11, 'insertion ', 3), (12, 'insertion ', 3), (16, 'insertion ', 3), (17, 'insertion ', 3), (20, 'insertion ', 3)]\n",
      "\n",
      "[(29, 'skipping ', 3), (30, 'skipping ', 3), (31, 'skipping ', 3), (32, 'skipping ', 3), (33, 'skipping ', 3), (34, 'skipping ', 3), (35, 'skipping ', 3), (37, 'skipping ', 3), (40, 'skipping ', 3), (42, 'skipping ', 3)]\n",
      "\n",
      "[(6, 'insertion ', 3), (7, 'insertion ', 3), (8, 'insertion ', 3), (9, 'insertion ', 3), (10, 'insertion ', 3), (11, 'insertion ', 3), (12, 'insertion ', 3), (16, 'insertion ', 3), (17, 'insertion ', 3), (20, 'insertion ', 3)]\n",
      "\n"
     ]
    },
    {
     "name": "stderr",
     "output_type": "stream",
     "text": [
      "/home/dr_drew/Projects/PRiRS/playground/server/server_env/lib/python3.12/site-packages/scipy/spatial/distance.py:685: RuntimeWarning: invalid value encountered in scalar divide\n",
      "  dist = 1.0 - uv / math.sqrt(uu * vv)\n"
     ]
    },
    {
     "name": "stdout",
     "output_type": "stream",
     "text": [
      "{'user_score_reading_phoneme': 33, 'user_score_reading_skipping': 79, 'user_score_reading_insertion': 83}\n",
      "\n",
      "[(60, 'phoneme ', 3), (61, 'phoneme ', 3), (62, 'phoneme ', 3), (63, 'phoneme ', 3), (65, 'phoneme ', 3), (68, 'phoneme ', 3), (69, 'phoneme ', 3), (72, 'phoneme ', 3), (74, 'phoneme ', 3), (6, 'insertion ', 3)]\n",
      "\n",
      "[(29, 'skipping ', 3), (30, 'skipping ', 3), (31, 'skipping ', 3), (32, 'skipping ', 3), (33, 'skipping ', 3), (34, 'skipping ', 3), (35, 'skipping ', 3), (37, 'skipping ', 3), (40, 'skipping ', 3), (42, 'skipping ', 3)]\n",
      "\n",
      "[(6, 'insertion ', 3), (7, 'insertion ', 3), (8, 'insertion ', 3), (9, 'insertion ', 3), (10, 'insertion ', 3), (11, 'insertion ', 3), (12, 'insertion ', 3), (16, 'insertion ', 3), (17, 'insertion ', 3), (20, 'insertion ', 3)]\n",
      "\n",
      "[(6, 'insertion ', 3), (7, 'insertion ', 3), (8, 'insertion ', 3), (9, 'insertion ', 3), (10, 'insertion ', 3), (11, 'insertion ', 3), (12, 'insertion ', 3), (16, 'insertion ', 3), (17, 'insertion ', 3), (20, 'insertion ', 3)]\n",
      "\n",
      "[(29, 'skipping ', 3), (30, 'skipping ', 3), (31, 'skipping ', 3), (32, 'skipping ', 3), (33, 'skipping ', 3), (34, 'skipping ', 3), (35, 'skipping ', 3), (37, 'skipping ', 3), (40, 'skipping ', 3), (42, 'skipping ', 3)]\n",
      "\n"
     ]
    },
    {
     "name": "stderr",
     "output_type": "stream",
     "text": [
      "/home/dr_drew/Projects/PRiRS/playground/server/server_env/lib/python3.12/site-packages/scipy/spatial/distance.py:685: RuntimeWarning: invalid value encountered in scalar divide\n",
      "  dist = 1.0 - uv / math.sqrt(uu * vv)\n"
     ]
    },
    {
     "name": "stdout",
     "output_type": "stream",
     "text": [
      "{'user_score_reading_phoneme': 34, 'user_score_reading_skipping': 80, 'user_score_reading_insertion': 84}\n",
      "\n",
      "[(6, 'insertion ', 3), (7, 'insertion ', 3), (8, 'insertion ', 3), (9, 'insertion ', 3), (10, 'insertion ', 3), (11, 'insertion ', 3), (12, 'insertion ', 3), (16, 'insertion ', 3), (17, 'insertion ', 3), (20, 'insertion ', 3)]\n",
      "\n",
      "[(29, 'skipping ', 3), (30, 'skipping ', 3), (31, 'skipping ', 3), (32, 'skipping ', 3), (33, 'skipping ', 3), (34, 'skipping ', 3), (35, 'skipping ', 3), (37, 'skipping ', 3), (40, 'skipping ', 3), (42, 'skipping ', 3)]\n",
      "\n",
      "[(61, 'phoneme ', 3), (62, 'phoneme ', 3), (63, 'phoneme ', 3), (65, 'phoneme ', 3), (68, 'phoneme ', 3), (69, 'phoneme ', 3), (72, 'phoneme ', 3), (74, 'phoneme ', 3), (6, 'insertion ', 3), (7, 'insertion ', 3)]\n",
      "\n",
      "[(6, 'insertion ', 3), (7, 'insertion ', 3), (8, 'insertion ', 3), (9, 'insertion ', 3), (10, 'insertion ', 3), (11, 'insertion ', 3), (12, 'insertion ', 3), (16, 'insertion ', 3), (17, 'insertion ', 3), (20, 'insertion ', 3)]\n",
      "\n",
      "[(29, 'skipping ', 3), (30, 'skipping ', 3), (31, 'skipping ', 3), (32, 'skipping ', 3), (33, 'skipping ', 3), (34, 'skipping ', 3), (35, 'skipping ', 3), (37, 'skipping ', 3), (40, 'skipping ', 3), (42, 'skipping ', 3)]\n",
      "\n"
     ]
    },
    {
     "name": "stderr",
     "output_type": "stream",
     "text": [
      "/home/dr_drew/Projects/PRiRS/playground/server/server_env/lib/python3.12/site-packages/scipy/spatial/distance.py:685: RuntimeWarning: invalid value encountered in scalar divide\n",
      "  dist = 1.0 - uv / math.sqrt(uu * vv)\n"
     ]
    },
    {
     "name": "stdout",
     "output_type": "stream",
     "text": [
      "{'user_score_reading_phoneme': 35, 'user_score_reading_skipping': 81, 'user_score_reading_insertion': 85}\n",
      "\n",
      "[(6, 'insertion ', 3), (7, 'insertion ', 3), (8, 'insertion ', 3), (9, 'insertion ', 3), (10, 'insertion ', 3), (11, 'insertion ', 3), (12, 'insertion ', 3), (16, 'insertion ', 3), (17, 'insertion ', 3), (20, 'insertion ', 3)]\n",
      "\n",
      "[(29, 'skipping ', 3), (30, 'skipping ', 3), (31, 'skipping ', 3), (32, 'skipping ', 3), (33, 'skipping ', 3), (34, 'skipping ', 3), (35, 'skipping ', 3), (37, 'skipping ', 3), (40, 'skipping ', 3), (42, 'skipping ', 3)]\n",
      "\n",
      "[(62, 'phoneme ', 3), (63, 'phoneme ', 3), (65, 'phoneme ', 3), (68, 'phoneme ', 3), (69, 'phoneme ', 3), (72, 'phoneme ', 3), (74, 'phoneme ', 3), (6, 'insertion ', 3), (7, 'insertion ', 3), (8, 'insertion ', 3)]\n",
      "\n",
      "[(6, 'insertion ', 3), (7, 'insertion ', 3), (8, 'insertion ', 3), (9, 'insertion ', 3), (10, 'insertion ', 3), (11, 'insertion ', 3), (12, 'insertion ', 3), (16, 'insertion ', 3), (17, 'insertion ', 3), (20, 'insertion ', 3)]\n",
      "\n",
      "[(29, 'skipping ', 3), (30, 'skipping ', 3), (31, 'skipping ', 3), (32, 'skipping ', 3), (33, 'skipping ', 3), (34, 'skipping ', 3), (35, 'skipping ', 3), (37, 'skipping ', 3), (40, 'skipping ', 3), (42, 'skipping ', 3)]\n",
      "\n"
     ]
    },
    {
     "name": "stderr",
     "output_type": "stream",
     "text": [
      "/home/dr_drew/Projects/PRiRS/playground/server/server_env/lib/python3.12/site-packages/scipy/spatial/distance.py:685: RuntimeWarning: invalid value encountered in scalar divide\n",
      "  dist = 1.0 - uv / math.sqrt(uu * vv)\n"
     ]
    },
    {
     "name": "stdout",
     "output_type": "stream",
     "text": [
      "{'user_score_reading_phoneme': 31, 'user_score_reading_skipping': 82, 'user_score_reading_insertion': 86}\n",
      "\n",
      "[(6, 'insertion ', 3), (7, 'insertion ', 3), (8, 'insertion ', 3), (9, 'insertion ', 3), (10, 'insertion ', 3), (11, 'insertion ', 3), (12, 'insertion ', 3), (16, 'insertion ', 3), (17, 'insertion ', 3), (20, 'insertion ', 3)]\n",
      "\n",
      "[(29, 'skipping ', 3), (30, 'skipping ', 3), (31, 'skipping ', 3), (32, 'skipping ', 3), (33, 'skipping ', 3), (34, 'skipping ', 3), (35, 'skipping ', 3), (37, 'skipping ', 3), (40, 'skipping ', 3), (42, 'skipping ', 3)]\n",
      "\n",
      "[(63, 'phoneme ', 3), (65, 'phoneme ', 3), (68, 'phoneme ', 3), (69, 'phoneme ', 3), (72, 'phoneme ', 3), (74, 'phoneme ', 3), (77, 'accent ', 3), (79, 'accent ', 3), (82, 'accent ', 3), (84, 'accent ', 3)]\n",
      "\n",
      "[(6, 'insertion ', 3), (7, 'insertion ', 3), (8, 'insertion ', 3), (9, 'insertion ', 3), (10, 'insertion ', 3), (11, 'insertion ', 3), (12, 'insertion ', 3), (16, 'insertion ', 3), (17, 'insertion ', 3), (20, 'insertion ', 3)]\n",
      "\n",
      "[(29, 'skipping ', 3), (30, 'skipping ', 3), (31, 'skipping ', 3), (32, 'skipping ', 3), (33, 'skipping ', 3), (34, 'skipping ', 3), (35, 'skipping ', 3), (37, 'skipping ', 3), (40, 'skipping ', 3), (42, 'skipping ', 3)]\n",
      "\n"
     ]
    },
    {
     "name": "stderr",
     "output_type": "stream",
     "text": [
      "/home/dr_drew/Projects/PRiRS/playground/server/server_env/lib/python3.12/site-packages/scipy/spatial/distance.py:685: RuntimeWarning: invalid value encountered in scalar divide\n",
      "  dist = 1.0 - uv / math.sqrt(uu * vv)\n"
     ]
    },
    {
     "name": "stdout",
     "output_type": "stream",
     "text": [
      "{'user_score_reading_phoneme': 32, 'user_score_reading_skipping': 83, 'user_score_reading_insertion': 87}\n",
      "\n",
      "[(6, 'insertion ', 3), (7, 'insertion ', 3), (8, 'insertion ', 3), (9, 'insertion ', 3), (10, 'insertion ', 3), (11, 'insertion ', 3), (12, 'insertion ', 3), (16, 'insertion ', 3), (17, 'insertion ', 3), (20, 'insertion ', 3)]\n",
      "\n",
      "[(29, 'skipping ', 3), (30, 'skipping ', 3), (31, 'skipping ', 3), (32, 'skipping ', 3), (33, 'skipping ', 3), (34, 'skipping ', 3), (35, 'skipping ', 3), (37, 'skipping ', 3), (40, 'skipping ', 3), (42, 'skipping ', 3)]\n",
      "\n",
      "[(65, 'phoneme ', 3), (68, 'phoneme ', 3), (69, 'phoneme ', 3), (72, 'phoneme ', 3), (74, 'phoneme ', 3), (77, 'accent ', 3), (79, 'accent ', 3), (82, 'accent ', 3), (84, 'accent ', 3), (85, 'accent ', 3)]\n",
      "\n",
      "[(6, 'insertion ', 3), (7, 'insertion ', 3), (8, 'insertion ', 3), (9, 'insertion ', 3), (10, 'insertion ', 3), (11, 'insertion ', 3), (12, 'insertion ', 3), (16, 'insertion ', 3), (17, 'insertion ', 3), (20, 'insertion ', 3)]\n",
      "\n",
      "[(29, 'skipping ', 3), (30, 'skipping ', 3), (31, 'skipping ', 3), (32, 'skipping ', 3), (33, 'skipping ', 3), (34, 'skipping ', 3), (35, 'skipping ', 3), (37, 'skipping ', 3), (40, 'skipping ', 3), (42, 'skipping ', 3)]\n",
      "\n"
     ]
    },
    {
     "name": "stderr",
     "output_type": "stream",
     "text": [
      "/home/dr_drew/Projects/PRiRS/playground/server/server_env/lib/python3.12/site-packages/scipy/spatial/distance.py:685: RuntimeWarning: invalid value encountered in scalar divide\n",
      "  dist = 1.0 - uv / math.sqrt(uu * vv)\n"
     ]
    },
    {
     "name": "stdout",
     "output_type": "stream",
     "text": [
      "{'user_score_reading_phoneme': 33, 'user_score_reading_skipping': 84, 'user_score_reading_insertion': 88}\n",
      "\n",
      "[(6, 'insertion ', 3), (7, 'insertion ', 3), (8, 'insertion ', 3), (9, 'insertion ', 3), (10, 'insertion ', 3), (11, 'insertion ', 3), (12, 'insertion ', 3), (16, 'insertion ', 3), (17, 'insertion ', 3), (20, 'insertion ', 3)]\n",
      "\n",
      "[(29, 'skipping ', 3), (30, 'skipping ', 3), (31, 'skipping ', 3), (32, 'skipping ', 3), (33, 'skipping ', 3), (34, 'skipping ', 3), (35, 'skipping ', 3), (37, 'skipping ', 3), (40, 'skipping ', 3), (42, 'skipping ', 3)]\n",
      "\n",
      "[(68, 'phoneme ', 3), (69, 'phoneme ', 3), (72, 'phoneme ', 3), (74, 'phoneme ', 3), (77, 'accent ', 3), (79, 'accent ', 3), (82, 'accent ', 3), (84, 'accent ', 3), (85, 'accent ', 3), (86, 'accent ', 3)]\n",
      "\n",
      "[(6, 'insertion ', 3), (7, 'insertion ', 3), (8, 'insertion ', 3), (9, 'insertion ', 3), (10, 'insertion ', 3), (11, 'insertion ', 3), (12, 'insertion ', 3), (16, 'insertion ', 3), (17, 'insertion ', 3), (20, 'insertion ', 3)]\n",
      "\n",
      "[(29, 'skipping ', 3), (30, 'skipping ', 3), (31, 'skipping ', 3), (32, 'skipping ', 3), (33, 'skipping ', 3), (34, 'skipping ', 3), (35, 'skipping ', 3), (37, 'skipping ', 3), (40, 'skipping ', 3), (42, 'skipping ', 3)]\n",
      "\n"
     ]
    },
    {
     "name": "stderr",
     "output_type": "stream",
     "text": [
      "/home/dr_drew/Projects/PRiRS/playground/server/server_env/lib/python3.12/site-packages/scipy/spatial/distance.py:685: RuntimeWarning: invalid value encountered in scalar divide\n",
      "  dist = 1.0 - uv / math.sqrt(uu * vv)\n"
     ]
    },
    {
     "name": "stdout",
     "output_type": "stream",
     "text": [
      "{'user_score_reading_phoneme': 34, 'user_score_reading_skipping': 85, 'user_score_reading_insertion': 89}\n",
      "\n",
      "[(6, 'insertion ', 3), (7, 'insertion ', 3), (8, 'insertion ', 3), (9, 'insertion ', 3), (10, 'insertion ', 3), (11, 'insertion ', 3), (12, 'insertion ', 3), (16, 'insertion ', 3), (17, 'insertion ', 3), (20, 'insertion ', 3)]\n",
      "\n",
      "[(29, 'skipping ', 3), (30, 'skipping ', 3), (31, 'skipping ', 3), (32, 'skipping ', 3), (33, 'skipping ', 3), (34, 'skipping ', 3), (35, 'skipping ', 3), (37, 'skipping ', 3), (40, 'skipping ', 3), (42, 'skipping ', 3)]\n",
      "\n",
      "[(69, 'phoneme ', 3), (72, 'phoneme ', 3), (74, 'phoneme ', 3), (77, 'accent ', 3), (79, 'accent ', 3), (82, 'accent ', 3), (84, 'accent ', 3), (85, 'accent ', 3), (86, 'accent ', 3), (88, 'accent ', 3)]\n",
      "\n",
      "[(6, 'insertion ', 3), (7, 'insertion ', 3), (8, 'insertion ', 3), (9, 'insertion ', 3), (10, 'insertion ', 3), (11, 'insertion ', 3), (12, 'insertion ', 3), (16, 'insertion ', 3), (17, 'insertion ', 3), (20, 'insertion ', 3)]\n",
      "\n",
      "[(29, 'skipping ', 3), (30, 'skipping ', 3), (31, 'skipping ', 3), (32, 'skipping ', 3), (33, 'skipping ', 3), (34, 'skipping ', 3), (35, 'skipping ', 3), (37, 'skipping ', 3), (40, 'skipping ', 3), (42, 'skipping ', 3)]\n",
      "\n"
     ]
    },
    {
     "name": "stderr",
     "output_type": "stream",
     "text": [
      "/home/dr_drew/Projects/PRiRS/playground/server/server_env/lib/python3.12/site-packages/scipy/spatial/distance.py:685: RuntimeWarning: invalid value encountered in scalar divide\n",
      "  dist = 1.0 - uv / math.sqrt(uu * vv)\n"
     ]
    },
    {
     "name": "stdout",
     "output_type": "stream",
     "text": [
      "{'user_score_reading_phoneme': 30, 'user_score_reading_skipping': 86, 'user_score_reading_insertion': 90}\n",
      "\n",
      "[(6, 'insertion ', 3), (7, 'insertion ', 3), (8, 'insertion ', 3), (9, 'insertion ', 3), (10, 'insertion ', 3), (11, 'insertion ', 3), (12, 'insertion ', 3), (16, 'insertion ', 3), (17, 'insertion ', 3), (20, 'insertion ', 3)]\n",
      "\n",
      "[(29, 'skipping ', 3), (30, 'skipping ', 3), (31, 'skipping ', 3), (32, 'skipping ', 3), (33, 'skipping ', 3), (34, 'skipping ', 3), (35, 'skipping ', 3), (37, 'skipping ', 3), (40, 'skipping ', 3), (42, 'skipping ', 3)]\n",
      "\n",
      "[(72, 'phoneme ', 3), (74, 'phoneme ', 3), (77, 'accent ', 3), (79, 'accent ', 3), (82, 'accent ', 3), (84, 'accent ', 3), (85, 'accent ', 3), (86, 'accent ', 3), (88, 'accent ', 3), (89, 'accent ', 3)]\n",
      "\n",
      "[(6, 'insertion ', 3), (7, 'insertion ', 3), (8, 'insertion ', 3), (9, 'insertion ', 3), (10, 'insertion ', 3), (11, 'insertion ', 3), (12, 'insertion ', 3), (16, 'insertion ', 3), (17, 'insertion ', 3), (20, 'insertion ', 3)]\n",
      "\n",
      "[(29, 'skipping ', 3), (30, 'skipping ', 3), (31, 'skipping ', 3), (32, 'skipping ', 3), (33, 'skipping ', 3), (34, 'skipping ', 3), (35, 'skipping ', 3), (37, 'skipping ', 3), (40, 'skipping ', 3), (42, 'skipping ', 3)]\n",
      "\n"
     ]
    },
    {
     "name": "stderr",
     "output_type": "stream",
     "text": [
      "/home/dr_drew/Projects/PRiRS/playground/server/server_env/lib/python3.12/site-packages/scipy/spatial/distance.py:685: RuntimeWarning: invalid value encountered in scalar divide\n",
      "  dist = 1.0 - uv / math.sqrt(uu * vv)\n"
     ]
    },
    {
     "name": "stdout",
     "output_type": "stream",
     "text": [
      "{'user_score_reading_phoneme': 31, 'user_score_reading_skipping': 87, 'user_score_reading_insertion': 85}\n",
      "\n",
      "[(6, 'insertion ', 3), (7, 'insertion ', 3), (8, 'insertion ', 3), (9, 'insertion ', 3), (10, 'insertion ', 3), (11, 'insertion ', 3), (12, 'insertion ', 3), (16, 'insertion ', 3), (17, 'insertion ', 3), (20, 'insertion ', 3)]\n",
      "\n",
      "[(29, 'skipping ', 3), (30, 'skipping ', 3), (31, 'skipping ', 3), (32, 'skipping ', 3), (33, 'skipping ', 3), (34, 'skipping ', 3), (35, 'skipping ', 3), (37, 'skipping ', 3), (40, 'skipping ', 3), (42, 'skipping ', 3)]\n",
      "\n",
      "[(74, 'phoneme ', 3), (6, 'insertion ', 3), (7, 'insertion ', 3), (8, 'insertion ', 3), (9, 'insertion ', 3), (10, 'insertion ', 3), (11, 'insertion ', 3), (12, 'insertion ', 3), (16, 'insertion ', 3), (17, 'insertion ', 3)]\n",
      "\n",
      "[(6, 'insertion ', 3), (7, 'insertion ', 3), (8, 'insertion ', 3), (9, 'insertion ', 3), (10, 'insertion ', 3), (11, 'insertion ', 3), (12, 'insertion ', 3), (16, 'insertion ', 3), (17, 'insertion ', 3), (20, 'insertion ', 3)]\n",
      "\n",
      "[(29, 'skipping ', 3), (30, 'skipping ', 3), (31, 'skipping ', 3), (32, 'skipping ', 3), (33, 'skipping ', 3), (34, 'skipping ', 3), (35, 'skipping ', 3), (37, 'skipping ', 3), (40, 'skipping ', 3), (42, 'skipping ', 3)]\n",
      "\n"
     ]
    },
    {
     "name": "stderr",
     "output_type": "stream",
     "text": [
      "/home/dr_drew/Projects/PRiRS/playground/server/server_env/lib/python3.12/site-packages/scipy/spatial/distance.py:685: RuntimeWarning: invalid value encountered in scalar divide\n",
      "  dist = 1.0 - uv / math.sqrt(uu * vv)\n"
     ]
    },
    {
     "name": "stdout",
     "output_type": "stream",
     "text": [
      "{'user_score_reading_phoneme': 26, 'user_score_reading_skipping': 82, 'user_score_reading_insertion': 86}\n",
      "\n",
      "[(6, 'insertion ', 3), (7, 'insertion ', 3), (8, 'insertion ', 3), (9, 'insertion ', 3), (10, 'insertion ', 3), (11, 'insertion ', 3), (12, 'insertion ', 3), (16, 'insertion ', 3), (17, 'insertion ', 3), (20, 'insertion ', 3)]\n",
      "\n",
      "[(29, 'skipping ', 3), (30, 'skipping ', 3), (31, 'skipping ', 3), (32, 'skipping ', 3), (33, 'skipping ', 3), (34, 'skipping ', 3), (35, 'skipping ', 3), (37, 'skipping ', 3), (40, 'skipping ', 3), (42, 'skipping ', 3)]\n",
      "\n",
      "[(77, 'accent ', 3), (79, 'accent ', 3), (82, 'accent ', 3), (84, 'accent ', 3), (85, 'accent ', 3), (86, 'accent ', 3), (88, 'accent ', 3), (89, 'accent ', 3), (91, 'accent ', 3), (98, 'accent ', 3)]\n",
      "\n",
      "[(6, 'insertion ', 3), (7, 'insertion ', 3), (8, 'insertion ', 3), (9, 'insertion ', 3), (10, 'insertion ', 3), (11, 'insertion ', 3), (12, 'insertion ', 3), (16, 'insertion ', 3), (17, 'insertion ', 3), (20, 'insertion ', 3)]\n",
      "\n",
      "[(29, 'skipping ', 3), (30, 'skipping ', 3), (31, 'skipping ', 3), (32, 'skipping ', 3), (33, 'skipping ', 3), (34, 'skipping ', 3), (35, 'skipping ', 3), (37, 'skipping ', 3), (40, 'skipping ', 3), (42, 'skipping ', 3)]\n",
      "\n"
     ]
    },
    {
     "name": "stderr",
     "output_type": "stream",
     "text": [
      "/home/dr_drew/Projects/PRiRS/playground/server/server_env/lib/python3.12/site-packages/scipy/spatial/distance.py:685: RuntimeWarning: invalid value encountered in scalar divide\n",
      "  dist = 1.0 - uv / math.sqrt(uu * vv)\n"
     ]
    },
    {
     "name": "stdout",
     "output_type": "stream",
     "text": [
      "{'user_score_reading_phoneme': 27, 'user_score_reading_skipping': 83, 'user_score_reading_insertion': 87}\n",
      "\n",
      "[(6, 'insertion ', 3), (7, 'insertion ', 3), (8, 'insertion ', 3), (9, 'insertion ', 3), (10, 'insertion ', 3), (11, 'insertion ', 3), (12, 'insertion ', 3), (16, 'insertion ', 3), (17, 'insertion ', 3), (20, 'insertion ', 3)]\n",
      "\n",
      "[(29, 'skipping ', 3), (30, 'skipping ', 3), (31, 'skipping ', 3), (32, 'skipping ', 3), (33, 'skipping ', 3), (34, 'skipping ', 3), (35, 'skipping ', 3), (37, 'skipping ', 3), (40, 'skipping ', 3), (42, 'skipping ', 3)]\n",
      "\n",
      "[(79, 'accent ', 3), (82, 'accent ', 3), (84, 'accent ', 3), (85, 'accent ', 3), (86, 'accent ', 3), (88, 'accent ', 3), (89, 'accent ', 3), (91, 'accent ', 3), (98, 'accent ', 3), (6, 'insertion ', 3)]\n",
      "\n",
      "[(6, 'insertion ', 3), (7, 'insertion ', 3), (8, 'insertion ', 3), (9, 'insertion ', 3), (10, 'insertion ', 3), (11, 'insertion ', 3), (12, 'insertion ', 3), (16, 'insertion ', 3), (17, 'insertion ', 3), (20, 'insertion ', 3)]\n",
      "\n",
      "[(29, 'skipping ', 3), (30, 'skipping ', 3), (31, 'skipping ', 3), (32, 'skipping ', 3), (33, 'skipping ', 3), (34, 'skipping ', 3), (35, 'skipping ', 3), (37, 'skipping ', 3), (40, 'skipping ', 3), (42, 'skipping ', 3)]\n",
      "\n"
     ]
    },
    {
     "name": "stderr",
     "output_type": "stream",
     "text": [
      "/home/dr_drew/Projects/PRiRS/playground/server/server_env/lib/python3.12/site-packages/scipy/spatial/distance.py:685: RuntimeWarning: invalid value encountered in scalar divide\n",
      "  dist = 1.0 - uv / math.sqrt(uu * vv)\n"
     ]
    },
    {
     "name": "stdout",
     "output_type": "stream",
     "text": [
      "{'user_score_reading_phoneme': 28, 'user_score_reading_skipping': 84, 'user_score_reading_insertion': 88}\n",
      "\n",
      "[(6, 'insertion ', 3), (7, 'insertion ', 3), (8, 'insertion ', 3), (9, 'insertion ', 3), (10, 'insertion ', 3), (11, 'insertion ', 3), (12, 'insertion ', 3), (16, 'insertion ', 3), (17, 'insertion ', 3), (20, 'insertion ', 3)]\n",
      "\n",
      "[(29, 'skipping ', 3), (30, 'skipping ', 3), (31, 'skipping ', 3), (32, 'skipping ', 3), (33, 'skipping ', 3), (34, 'skipping ', 3), (35, 'skipping ', 3), (37, 'skipping ', 3), (40, 'skipping ', 3), (42, 'skipping ', 3)]\n",
      "\n",
      "[(82, 'accent ', 3), (84, 'accent ', 3), (85, 'accent ', 3), (86, 'accent ', 3), (88, 'accent ', 3), (89, 'accent ', 3), (91, 'accent ', 3), (98, 'accent ', 3), (6, 'insertion ', 3), (7, 'insertion ', 3)]\n",
      "\n",
      "[(6, 'insertion ', 3), (7, 'insertion ', 3), (8, 'insertion ', 3), (9, 'insertion ', 3), (10, 'insertion ', 3), (11, 'insertion ', 3), (12, 'insertion ', 3), (16, 'insertion ', 3), (17, 'insertion ', 3), (20, 'insertion ', 3)]\n",
      "\n",
      "[(29, 'skipping ', 3), (30, 'skipping ', 3), (31, 'skipping ', 3), (32, 'skipping ', 3), (33, 'skipping ', 3), (34, 'skipping ', 3), (35, 'skipping ', 3), (37, 'skipping ', 3), (40, 'skipping ', 3), (42, 'skipping ', 3)]\n",
      "\n",
      "{'id': 1, 'name': 'Andrew', 'email': 'test@test.com', 'password': 'test', 'scores': {'user_score_grammar': 70, 'user_score_listenning': 60, 'user_score_reading_insertion': 88, 'user_score_reading_skipping': 84, 'user_score_reading_phoneme': 28, 'user_score_reading_accent': 40, 'user_group_id': 2}}\n"
     ]
    },
    {
     "name": "stderr",
     "output_type": "stream",
     "text": [
      "/home/dr_drew/Projects/PRiRS/playground/server/server_env/lib/python3.12/site-packages/scipy/spatial/distance.py:685: RuntimeWarning: invalid value encountered in scalar divide\n",
      "  dist = 1.0 - uv / math.sqrt(uu * vv)\n"
     ]
    }
   ],
   "source": [
    "user = model.database.get_user(\"test@test.com\")\n",
    "user_scores_tendence = {\"user_score_reading_insertion\" : [],\n",
    "                        \"user_score_reading_skipping\" : [],\n",
    "                        \"user_score_reading_phoneme\" : [],\n",
    "                        \"cluster\" : [],\n",
    "                        \"mean_score_reading_insertion\" : [],\n",
    "                        \"mean_score_reading_skipping\" : [],\n",
    "                        \"mean_score_reading_phoneme\" : [],\n",
    "                        \"total_mean_scores\" : [],\n",
    "                        \"task_list_ids\" : [],\n",
    "                        }\n",
    "\n",
    "print(user)\n",
    "for i in range(50):\n",
    "    user = model.database.get_user(\"test@test.com\")\n",
    "    user_scores_tendence[\"user_score_reading_insertion\"].append(user[\"scores\"][\"user_score_reading_insertion\"])\n",
    "    user_scores_tendence[\"user_score_reading_skipping\"].append(user[\"scores\"][\"user_score_reading_skipping\"])\n",
    "    user_scores_tendence[\"user_score_reading_phoneme\"].append(user[\"scores\"][\"user_score_reading_phoneme\"])\n",
    "    user_scores_tendence[\"cluster\"].append(user[\"scores\"][\"user_group_id\"])\n",
    "\n",
    "    current_task = model.database.get_task_for_user(email=\"test@test.com\")[0]\n",
    "    user_scores_tendence[\"task_list_ids\"].append(current_task[\"key\"])\n",
    "    recived_transcribtion = readed_tasks[\"recived\"].iloc[current_task[\"key\"]-1]\n",
    "    comparation_res = compare_phonemes(phonemize(current_task[\"text\"]), recived_transcribtion)\n",
    "    # print(\"comparation res = \", comparation_res)\n",
    "    # print(\"task = \", current_task)\n",
    "    model.database.close_task_for_user(user[\"id\"], current_task[\"key\"])\n",
    "    model.update_score_for_user(user, current_task[\"text\"], comparation_res)\n",
    "    mean_scores = model.proccess()\n",
    "    user = model.database.get_user(\"test@test.com\")\n",
    "\n",
    "    user_scores_tendence[\"mean_score_reading_insertion\"].append(mean_scores[\"user_score_reading_insertion\"])\n",
    "    user_scores_tendence[\"mean_score_reading_skipping\"].append(mean_scores[\"user_score_reading_skipping\"])\n",
    "    user_scores_tendence[\"mean_score_reading_phoneme\"].append(mean_scores[\"user_score_reading_phoneme\"])\n",
    "    print()\n",
    "\n",
    "print(model.database.get_user(\"test@test.com\"))"
   ]
  },
  {
   "cell_type": "code",
   "execution_count": 21,
   "metadata": {},
   "outputs": [
    {
     "name": "stdout",
     "output_type": "stream",
     "text": [
      "{'user_score_reading_insertion': [50, 51, 52, 53, 54, 55, 56, 57, 58, 59, 54, 55, 56, 57, 58, 59, 60, 61, 62, 63, 64, 65, 66, 67, 68, 69, 70, 71, 72, 73, 74, 75, 76, 77, 78, 79, 80, 81, 82, 83, 84, 85, 86, 87, 88, 89, 90, 85, 86, 87], 'user_score_reading_skipping': [40, 41, 42, 43, 44, 45, 46, 47, 48, 49, 50, 51, 52, 53, 54, 55, 56, 57, 58, 59, 60, 61, 62, 63, 64, 65, 66, 67, 68, 69, 70, 71, 72, 73, 74, 75, 76, 77, 78, 79, 80, 81, 82, 83, 84, 85, 86, 87, 82, 83], 'user_score_reading_phoneme': [40, 41, 37, 38, 34, 35, 36, 37, 38, 39, 40, 41, 42, 43, 39, 40, 41, 42, 43, 44, 45, 46, 42, 38, 39, 34, 35, 36, 32, 33, 29, 30, 31, 32, 33, 34, 35, 36, 32, 33, 34, 35, 31, 32, 33, 34, 30, 31, 26, 27], 'cluster': [3, 3, 3, 1, 3, 2, 1, 3, 1, 3, 1, 3, 1, 3, 1, 3, 1, 3, 2, 2, 2, 2, 2, 1, 3, 3, 1, 3, 4, 2, 3, 3, 3, 3, 3, 3, 3, 3, 3, 3, 2, 2, 2, 2, 2, 2, 2, 2, 2, 2], 'mean_score_reading_insertion': [60.73076923076923, 60.76923076923077, 60.80769230769231, 60.84615384615385, 60.88461538461539, 60.92307692307692, 60.96153846153846, 61.0, 61.03846153846154, 60.84615384615385, 60.88461538461539, 60.92307692307692, 60.96153846153846, 61.0, 61.03846153846154, 61.07692307692308, 61.11538461538461, 61.15384615384615, 61.19230769230769, 61.23076923076923, 61.26923076923077, 61.30769230769231, 61.34615384615385, 61.38461538461539, 57.3, 61.46153846153846, 61.5, 57.6, 57.7, 57.8, 57.9, 58.0, 58.1, 58.2, 58.3, 58.4, 58.5, 61.92307692307692, 58.7, 58.8, 58.9, 59.0, 59.1, 59.2, 59.3, 59.4, 58.9, 59.0, 59.1, 59.2], 'mean_score_reading_skipping': [61.5, 61.53846153846154, 61.57692307692308, 61.61538461538461, 61.65384615384615, 61.69230769230769, 61.73076923076923, 61.76923076923077, 61.80769230769231, 61.84615384615385, 61.88461538461539, 61.92307692307692, 61.96153846153846, 62.0, 62.03846153846154, 62.07692307692308, 62.11538461538461, 62.15384615384615, 62.19230769230769, 62.23076923076923, 62.26923076923077, 62.30769230769231, 62.34615384615385, 62.38461538461539, 69.5, 62.46153846153846, 62.5, 69.8, 69.9, 70.0, 70.1, 70.2, 70.3, 70.4, 70.5, 70.6, 70.7, 62.92307692307692, 70.9, 71.0, 71.1, 71.2, 71.3, 71.4, 71.5, 71.6, 71.7, 71.2, 71.3, 71.4], 'mean_score_reading_phoneme': [60.80769230769231, 60.65384615384615, 60.69230769230769, 60.53846153846154, 60.57692307692308, 60.61538461538461, 60.65384615384615, 60.69230769230769, 60.73076923076923, 60.76923076923077, 60.80769230769231, 60.84615384615385, 60.88461538461539, 60.73076923076923, 60.76923076923077, 60.80769230769231, 60.84615384615385, 60.88461538461539, 60.92307692307692, 60.96153846153846, 61.0, 60.84615384615385, 60.69230769230769, 60.73076923076923, 50.2, 60.57692307692308, 60.61538461538461, 50.0, 50.1, 49.7, 49.8, 49.9, 50.0, 50.1, 50.2, 50.3, 50.4, 60.46153846153846, 50.1, 50.2, 50.3, 49.9, 50.0, 50.1, 50.2, 49.8, 49.9, 49.4, 49.5, 49.6], 'total_mean_scores': [], 'task_list_ids': [48, 1, 51, 2, 15, 47, 83, 95, 52, 64, 67, 70, 71, 73, 75, 3, 4, 5, 13, 14, 18, 25, 26, 27, 28, 76, 41, 50, 81, 87, 90, 92, 94, 96, 99, 100, 53, 55, 59, 60, 61, 62, 63, 65, 68, 69, 72, 74, 77, 79]}\n"
     ]
    }
   ],
   "source": [
    "print(user_scores_tendence)"
   ]
  },
  {
   "cell_type": "code",
   "execution_count": 22,
   "metadata": {},
   "outputs": [],
   "source": [
    "import matplotlib.pyplot as plt"
   ]
  },
  {
   "cell_type": "code",
   "execution_count": null,
   "metadata": {},
   "outputs": [
    {
     "data": {
      "text/plain": [
       "[<matplotlib.lines.Line2D at 0x7f424a6d7260>]"
      ]
     },
     "execution_count": 23,
     "metadata": {},
     "output_type": "execute_result"
    },
    {
     "data": {
      "image/png": "[encoded data removed]",
      "text/plain": [
       "<Figure size 640x480 with 1 Axes>"
      ]
     },
     "metadata": {},
     "output_type": "display_data"
    }
   ],
   "source": [
    "plt.plot(user_scores_tendence[\"user_score_reading_insertion\"])\n",
    "plt.plot(user_scores_tendence[\"user_score_reading_skipping\"])\n",
    "plt.plot(user_scores_tendence[\"user_score_reading_phoneme\"])"
   ]
  },
  {
   "cell_type": "code",
   "execution_count": 43,
   "metadata": {},
   "outputs": [
    {
     "name": "stdout",
     "output_type": "stream",
     "text": [
      "mean_presision_10 =  0.45\n"
     ]
    }
   ],
   "source": [
    "def is_relevant(prev, current, next):\n",
    "    if next > current and current > prev:\n",
    "        return False\n",
    "    if next < current and current < prev:\n",
    "        return False\n",
    "    return True\n",
    "\n",
    "\n",
    "relevance = [True]\n",
    "for i in range(1, len(user_scores_tendence[\"user_score_reading_skipping\"])-1):\n",
    "    ins = user_scores_tendence[\"user_score_reading_insertion\"]\n",
    "    ski = user_scores_tendence[\"user_score_reading_skipping\"]\n",
    "    pho = user_scores_tendence[\"user_score_reading_phoneme\"]\n",
    "    relevance.append(is_relevant(ins[i-1], ins[i], ins[i+1]) or is_relevant(ski[i-1], ski[i], ski[i+1]) or is_relevant(pho[i-1], pho[i], pho[i+1]))\n",
    "relevance.append(True)\n",
    "\n",
    "presision_10 = []\n",
    "for i in range(len(relevance)-10):\n",
    "    presision_10.append(sum(relevance[i:i+10])/10)\n",
    "mean_presision_10 = sum(presision_10) / len(presision_10)\n",
    "print(\"mean_presision_10 = \", mean_presision_10)"
   ]
  },
  {
   "cell_type": "code",
   "execution_count": 41,
   "metadata": {},
   "outputs": [
    {
     "data": {
      "text/plain": [
       "[<matplotlib.lines.Line2D at 0x7f4249190650>]"
      ]
     },
     "execution_count": 41,
     "metadata": {},
     "output_type": "execute_result"
    },
    {
     "data": {
      "image/png": "[encoded data removed]",
      "text/plain": [
       "<Figure size 640x480 with 1 Axes>"
      ]
     },
     "metadata": {},
     "output_type": "display_data"
    }
   ],
   "source": [
    "plt.plot(presision_10)"
   ]
  },
  {
   "cell_type": "code",
   "execution_count": 44,
   "metadata": {},
   "outputs": [],
   "source": [
    "database.on_shutdown()"
   ]
  },
  {
   "cell_type": "code",
   "execution_count": null,
   "metadata": {},
   "outputs": [],
   "source": []
  }
 ],
 "metadata": {
  "kernelspec": {
   "display_name": "server_env",
   "language": "python",
   "name": "python3"
  },
  "language_info": {
   "codemirror_mode": {
    "name": "ipython",
    "version": 3
   },
   "file_extension": ".py",
   "mimetype": "text/x-python",
   "name": "python",
   "nbconvert_exporter": "python",
   "pygments_lexer": "ipython3",
   "version": "3.12.3"
  }
 },
 "nbformat": 4,
 "nbformat_minor": 2
}
